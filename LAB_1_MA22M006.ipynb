{
 "cells": [
  {
   "cell_type": "markdown",
   "id": "a94fc2ca",
   "metadata": {},
   "source": [
    "#### Ans_1\n"
   ]
  },
  {
   "cell_type": "code",
   "execution_count": 1,
   "id": "27f1bd94",
   "metadata": {},
   "outputs": [],
   "source": [
    "import math\n",
    "import sys"
   ]
  },
  {
   "cell_type": "code",
   "execution_count": 12,
   "id": "ec43cb9b",
   "metadata": {},
   "outputs": [
    {
     "data": {
      "text/plain": [
       "32.2660653870387"
      ]
     },
     "execution_count": 12,
     "metadata": {},
     "output_type": "execute_result"
    }
   ],
   "source": [
    "#(a) 7(ln(5)+ln(e^3))==\n",
    "7*(math.log(5)+math.log((math.e)**3))"
   ]
  },
  {
   "cell_type": "code",
   "execution_count": 16,
   "id": "f8beb1be",
   "metadata": {},
   "outputs": [
    {
     "data": {
      "text/plain": [
       "0.15470053837925168"
      ]
     },
     "execution_count": 16,
     "metadata": {},
     "output_type": "execute_result"
    }
   ],
   "source": [
    "#(b) 1/sin(pi/3)+1/cos(3pi/2)==\n",
    "1/math.sin(math.pi/3)+1/math.cos(3*math.pi)"
   ]
  },
  {
   "cell_type": "markdown",
   "id": "b35ebffa",
   "metadata": {},
   "source": [
    "#### Ans_2"
   ]
  },
  {
   "cell_type": "code",
   "execution_count": 18,
   "id": "32d2baaa",
   "metadata": {},
   "outputs": [
    {
     "data": {
      "text/plain": [
       "23"
      ]
     },
     "execution_count": 18,
     "metadata": {},
     "output_type": "execute_result"
    }
   ],
   "source": [
    "# The Number of odd numbers between 5 and 50 will be\n",
    "int((50-5+1)/2)"
   ]
  },
  {
   "cell_type": "markdown",
   "id": "73613ad5",
   "metadata": {},
   "source": [
    "#### Ans_3"
   ]
  },
  {
   "cell_type": "code",
   "execution_count": 28,
   "id": "f2deda1e",
   "metadata": {},
   "outputs": [
    {
     "name": "stdout",
     "output_type": "stream",
     "text": [
      "100\n",
      "100\n",
      "-100\n",
      "-6\n",
      "4\n",
      "8\n",
      "9\n"
     ]
    }
   ],
   "source": [
    "nums=[100.496,100.59,-100.496,-6.5,4.25,8.5,9]\n",
    "#Truncates the Real x to the nearest Integral toward 0.\n",
    "for i in range(7):\n",
    "    print(math.trunc(nums[i]))\n"
   ]
  },
  {
   "cell_type": "code",
   "execution_count": 29,
   "id": "d71a1c68",
   "metadata": {},
   "outputs": [
    {
     "name": "stdout",
     "output_type": "stream",
     "text": [
      "100\n",
      "100\n",
      "-101\n",
      "-7\n",
      "4\n",
      "8\n",
      "9\n"
     ]
    }
   ],
   "source": [
    "# floor() gives the nearest integer sitting in the left of given number.\n",
    "for i in range(7):\n",
    "    print(math.floor(nums[i]))\n",
    "    \n"
   ]
  },
  {
   "cell_type": "code",
   "execution_count": 30,
   "id": "eedfc21f",
   "metadata": {},
   "outputs": [
    {
     "name": "stdout",
     "output_type": "stream",
     "text": [
      "101\n",
      "101\n",
      "-100\n",
      "-6\n",
      "5\n",
      "9\n",
      "9\n"
     ]
    }
   ],
   "source": [
    "# floor() gives the nearest integer sitting in the right of given number.\n",
    "for i in range(7):\n",
    "    print(math.ceil(nums[i]))\n"
   ]
  },
  {
   "cell_type": "code",
   "execution_count": 115,
   "id": "2ec0f636",
   "metadata": {},
   "outputs": [
    {
     "name": "stdout",
     "output_type": "stream",
     "text": [
      "100\n",
      "101\n",
      "-100\n",
      "-6\n",
      "4\n",
      "8\n",
      "9\n"
     ]
    }
   ],
   "source": [
    "for i in range(7):\n",
    "    print(round(nums[i]))"
   ]
  },
  {
   "cell_type": "markdown",
   "id": "a1e35d8c",
   "metadata": {},
   "source": [
    "#### Ans_4"
   ]
  },
  {
   "cell_type": "code",
   "execution_count": 3,
   "id": "bc25defd",
   "metadata": {},
   "outputs": [],
   "source": [
    "import random as rd"
   ]
  },
  {
   "cell_type": "code",
   "execution_count": 5,
   "id": "792cb71e",
   "metadata": {},
   "outputs": [
    {
     "data": {
      "text/plain": [
       "18.4"
      ]
     },
     "execution_count": 5,
     "metadata": {},
     "output_type": "execute_result"
    }
   ],
   "source": [
    "sum_1=0\n",
    "for i in range(5):\n",
    "    sum_1+=rd.randint(5,55)\n",
    "sum_1/5\n",
    "    "
   ]
  },
  {
   "cell_type": "markdown",
   "id": "ac37bbae",
   "metadata": {},
   "source": [
    "#### Ans_5"
   ]
  },
  {
   "cell_type": "code",
   "execution_count": 68,
   "id": "8720b416",
   "metadata": {},
   "outputs": [
    {
     "name": "stdout",
     "output_type": "stream",
     "text": [
      "Enter The Value of a: 0\n",
      "Enter The Value of b: 2\n",
      "Enter The Value of c: 1\n",
      "Value of a should be non negative.\n"
     ]
    }
   ],
   "source": [
    "# Solution of quadratic equation a*x**2+b*x+c=0 , a ne 0 .\n",
    "a=float(input('Enter The Value of a: '))\n",
    "b=float(input('Enter The Value of b: '))\n",
    "c=float(input('Enter The Value of c: '))\n",
    "if a==0:\n",
    "    print('Value of a should be non negative.')\n",
    "elif b**2-4*a*c>=0:\n",
    "    x_1=(-b+math.sqrt(abs(b**2-4*a*c)))/(2*a)\n",
    "    x_2=(-b-math.sqrt(abs(b**2-4*a*c)))/(2*a)\n",
    "    x_1,x_2\n",
    "else:\n",
    "    im_p=math.sqrt(abs(b**2-4*a*c))\n",
    "    x_1=complex(-b,im_p)/(2*a)\n",
    "    x_2=complex(-b,-im_p)/(2*a)\n",
    "    x_1,x_2    \n"
   ]
  },
  {
   "cell_type": "markdown",
   "id": "5d44a1fd",
   "metadata": {},
   "source": [
    "#### Ans_6\n"
   ]
  },
  {
   "cell_type": "code",
   "execution_count": 6,
   "id": "2da0272f",
   "metadata": {},
   "outputs": [
    {
     "name": "stdout",
     "output_type": "stream",
     "text": [
      "H\n",
      "P\n",
      "Y\n",
      "T\n",
      "PYT\n",
      "N\n"
     ]
    },
    {
     "data": {
      "text/plain": [
       "'NOHTYP'"
      ]
     },
     "execution_count": 6,
     "metadata": {},
     "output_type": "execute_result"
    }
   ],
   "source": [
    "name=\"PYTHON\"\n",
    "#a \n",
    "print(name[3])\n",
    "#b\n",
    "for i in range(3):\n",
    "    print(name[i])\n",
    "print(name[:3])    \n",
    "#c\n",
    "print(name[-1])\n",
    "#d\n",
    "name_1=\"\"\n",
    "for i in name:\n",
    "    name_1=i+name_1\n",
    "name_1"
   ]
  },
  {
   "cell_type": "markdown",
   "id": "07e1e0b1",
   "metadata": {},
   "source": [
    "#### Ans_7"
   ]
  },
  {
   "cell_type": "code",
   "execution_count": 82,
   "id": "2622ebe0",
   "metadata": {},
   "outputs": [
    {
     "data": {
      "text/plain": [
       "'Learning python is fun '"
      ]
     },
     "execution_count": 82,
     "metadata": {},
     "output_type": "execute_result"
    }
   ],
   "source": [
    "strs=['Learning','python','is','fun']\n",
    "#a\n",
    "str_1=\"\"\n",
    "for i in strs:\n",
    "    str_1=str_1+i+\" \"\n",
    "str_1"
   ]
  },
  {
   "cell_type": "code",
   "execution_count": 99,
   "id": "344629bc",
   "metadata": {},
   "outputs": [
    {
     "data": {
      "text/plain": [
       "'LEARNING PYTHON IS FUN '"
      ]
     },
     "execution_count": 99,
     "metadata": {},
     "output_type": "execute_result"
    }
   ],
   "source": [
    "#b\n",
    "\n",
    "str_1.upper()"
   ]
  },
  {
   "cell_type": "code",
   "execution_count": 101,
   "id": "9cf4de53",
   "metadata": {},
   "outputs": [
    {
     "data": {
      "text/plain": [
       "'Fun is python learning '"
      ]
     },
     "execution_count": 101,
     "metadata": {},
     "output_type": "execute_result"
    }
   ],
   "source": [
    "#c\n",
    "str_2=\"\"\n",
    "for i in strs:\n",
    "    str_2=i+\" \"+str_2\n",
    "str_2.capitalize()"
   ]
  },
  {
   "cell_type": "code",
   "execution_count": 105,
   "id": "abaa3153",
   "metadata": {},
   "outputs": [
    {
     "data": {
      "text/plain": [
       "' nuf si nohtyp gninrael'"
      ]
     },
     "execution_count": 105,
     "metadata": {},
     "output_type": "execute_result"
    }
   ],
   "source": [
    "#d\n",
    "str_3=\"\"\n",
    "for i in str_1:\n",
    "    str_3=i+str_3\n",
    "str_3.lower()"
   ]
  },
  {
   "cell_type": "markdown",
   "id": "818960f0",
   "metadata": {},
   "source": [
    "#### Ans_8"
   ]
  },
  {
   "cell_type": "code",
   "execution_count": 8,
   "id": "103f28fa",
   "metadata": {},
   "outputs": [
    {
     "name": "stdout",
     "output_type": "stream",
     "text": [
      "<class 'int'> <class 'float'> <class 'str'> <class 'complex'> <class 'list'>\n"
     ]
    },
    {
     "data": {
      "text/plain": [
       "{24, 28, 32, 50, 120}"
      ]
     },
     "execution_count": 8,
     "metadata": {},
     "output_type": "execute_result"
    }
   ],
   "source": [
    "a_1=3\n",
    "b_1=3.2\n",
    "c_1='M'\n",
    "d_1=2+3j\n",
    "e_1=['a',1,'3']\n",
    "print(type(a_1),type(b_1),type(c_1),type(d_1),type(e_1))\n",
    "size={sys.getsizeof(a_1),sys.getsizeof(b_1),sys.getsizeof(c_1),sys.getsizeof(d_1),sys.getsizeof(e_1)}\n",
    "size"
   ]
  },
  {
   "cell_type": "markdown",
   "id": "31dcd6f4",
   "metadata": {},
   "source": [
    "#### Ans_9"
   ]
  },
  {
   "cell_type": "code",
   "execution_count": 9,
   "id": "fc058aa9",
   "metadata": {},
   "outputs": [
    {
     "name": "stdout",
     "output_type": "stream",
     "text": [
      "Enter two Number separated by space: 12 34\n",
      "46\n"
     ]
    }
   ],
   "source": [
    "#a_3,b_3=int(input(\"Enter integer: \")).split()\n",
    "a,b=input('Enter two Number separated by space: ').split()\n",
    "a=int(a)\n",
    "b=int(b)\n",
    "print(a+b)"
   ]
  },
  {
   "cell_type": "markdown",
   "id": "7d6e5e5b",
   "metadata": {},
   "source": [
    "#### Ans_10\n"
   ]
  },
  {
   "cell_type": "code",
   "execution_count": 124,
   "id": "046df27b",
   "metadata": {},
   "outputs": [
    {
     "name": "stdout",
     "output_type": "stream",
     "text": [
      "Enter your course code: 263\n",
      "Hey we are learning python\n"
     ]
    },
    {
     "data": {
      "text/plain": [
       "5"
      ]
     },
     "execution_count": 124,
     "metadata": {},
     "output_type": "execute_result"
    }
   ],
   "source": [
    "# here we have \n",
    "#1.complex(a,b)   It gives the complex number whose real part will be a and complex part will be b.\n",
    "#2.abs(a)   It give absolute value of an real number a.\n",
    "#3.input()  It takes input from user.\n",
    "#4.print()  it prints the given argument\n",
    "#5.int(a)   it gives integer value from given real value a.\n",
    "\n",
    "complex(2,3)\n",
    "abs(-5)\n",
    "input(\"Enter your course code: \")\n",
    "print('Hey we are learning python')\n",
    "int(5.4)"
   ]
  },
  {
   "cell_type": "markdown",
   "id": "9d7d2f5e",
   "metadata": {},
   "source": [
    "#### Ans_11\n"
   ]
  },
  {
   "cell_type": "markdown",
   "id": "5fabd6b6",
   "metadata": {},
   "source": [
    "Definition:-When a parameter is declared as reference, it becomes an alternative name for an existing parameter.\n",
    "Pointer:-Pointer variables are used to store the address of variable.\n",
    "Differences:-\n",
    "References are used to refer an existing variable in another name whereas pointers are used to store address of variable.\n",
    "References cannot have a null value assigned but pointer can.\n"
   ]
  },
  {
   "cell_type": "code",
   "execution_count": null,
   "id": "3802ada9",
   "metadata": {},
   "outputs": [],
   "source": []
  }
 ],
 "metadata": {
  "kernelspec": {
   "display_name": "Python 3 (ipykernel)",
   "language": "python",
   "name": "python3"
  },
  "language_info": {
   "codemirror_mode": {
    "name": "ipython",
    "version": 3
   },
   "file_extension": ".py",
   "mimetype": "text/x-python",
   "name": "python",
   "nbconvert_exporter": "python",
   "pygments_lexer": "ipython3",
   "version": "3.9.13"
  }
 },
 "nbformat": 4,
 "nbformat_minor": 5
}
