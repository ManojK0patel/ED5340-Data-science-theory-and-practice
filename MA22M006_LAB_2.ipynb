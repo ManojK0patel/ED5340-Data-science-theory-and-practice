{
 "cells": [
  {
   "cell_type": "markdown",
   "id": "66fa30be",
   "metadata": {},
   "source": [
    "### Solution_1\n"
   ]
  },
  {
   "cell_type": "code",
   "execution_count": 8,
   "id": "5d9b80f6",
   "metadata": {},
   "outputs": [],
   "source": [
    "#By using list Comprehension\n",
    "lst7_6=[x for x in range(1,500) if x%7==0 and x%6==0]"
   ]
  },
  {
   "cell_type": "code",
   "execution_count": 9,
   "id": "3899c9bd",
   "metadata": {},
   "outputs": [
    {
     "data": {
      "text/plain": [
       "[42, 84, 126, 168, 210, 252, 294, 336, 378, 420, 462]"
      ]
     },
     "execution_count": 9,
     "metadata": {},
     "output_type": "execute_result"
    }
   ],
   "source": [
    "lst7_6"
   ]
  },
  {
   "cell_type": "markdown",
   "id": "aea0345a",
   "metadata": {},
   "source": [
    "### a)Using Continue Statement"
   ]
  },
  {
   "cell_type": "code",
   "execution_count": 19,
   "id": "8cc57d50",
   "metadata": {},
   "outputs": [
    {
     "name": "stdout",
     "output_type": "stream",
     "text": [
      "42,84,126,168,210,252,294,336,378,420,462,"
     ]
    }
   ],
   "source": [
    "for x in range(1,500):\n",
    "    if x%7!=0 or x%6!=0:\n",
    "        continue\n",
    "    print(x,end=\",\")   "
   ]
  },
  {
   "cell_type": "markdown",
   "id": "33c3ca32",
   "metadata": {},
   "source": [
    "### b) By using pass Statements "
   ]
  },
  {
   "cell_type": "code",
   "execution_count": 24,
   "id": "38d7feac",
   "metadata": {},
   "outputs": [
    {
     "name": "stdout",
     "output_type": "stream",
     "text": [
      "42,84,126,168,210,252,294,336,378,420,462,"
     ]
    }
   ],
   "source": [
    "for x in range(1,500):\n",
    "    if x%7!=0 or x%6!=0:\n",
    "        pass\n",
    "    else:\n",
    "        print(x,end=\",\")\n",
    "        "
   ]
  },
  {
   "cell_type": "markdown",
   "id": "7793cb5b",
   "metadata": {},
   "source": [
    "### Solution_2"
   ]
  },
  {
   "cell_type": "code",
   "execution_count": 27,
   "id": "fafe1367",
   "metadata": {},
   "outputs": [
    {
     "name": "stdout",
     "output_type": "stream",
     "text": [
      "Sum of even Numbers is 14 and sum of odd number is 9\n"
     ]
    }
   ],
   "source": [
    "n='1111122221111222'\n",
    "sum_even=0\n",
    "sum_odd=0\n",
    "for i in n:\n",
    "    if int(i)%2==0:\n",
    "        sum_even+=int(i)\n",
    "    else:\n",
    "        sum_odd+=int(i)\n",
    "print(\"Sum of even Numbers is {} and sum of odd number is {}\".format(sum_even,sum_odd))        "
   ]
  },
  {
   "cell_type": "markdown",
   "id": "00b17f4a",
   "metadata": {},
   "source": [
    "### Solution_3"
   ]
  },
  {
   "cell_type": "markdown",
   "id": "9f7276ce",
   "metadata": {},
   "source": [
    "Conditional expressions are used when we have to verify some specific condition on the objects such as a nuber is divisible by any ither number , an string contain some specific string etc."
   ]
  },
  {
   "cell_type": "code",
   "execution_count": 37,
   "id": "9bbad764",
   "metadata": {},
   "outputs": [
    {
     "name": "stdout",
     "output_type": "stream",
     "text": [
      "we got list minimum 3 and list Maximum 2345\n",
      "3 2345\n"
     ]
    }
   ],
   "source": [
    "lst=[763,2345,65,897,43,234,54,56,8,87,76,634,45,324,42,324,325,3]\n",
    "lst_max=lst[0]\n",
    "lst_min=lst[1]\n",
    "for i in lst:\n",
    "    if i>lst_max:\n",
    "        lst_max=i\n",
    "    else:\n",
    "        lst_min=i\n",
    "print(\"we got list minimum {1} and list Maximum {0}\".format(lst_max,lst_min))        \n",
    "print(min(lst),max(lst))"
   ]
  },
  {
   "cell_type": "markdown",
   "id": "e1ea0e53",
   "metadata": {},
   "source": [
    "### Solution_4"
   ]
  },
  {
   "cell_type": "code",
   "execution_count": 42,
   "id": "8ee6ed0e",
   "metadata": {},
   "outputs": [
    {
     "name": "stdout",
     "output_type": "stream",
     "text": [
      "Enter a Integer: 20\n",
      "1\n",
      "22\n",
      "333\n",
      "4444\n",
      "55555\n",
      "666666\n",
      "7777777\n",
      "88888888\n",
      "999999999\n",
      "10101010101010101010\n",
      "1111111111111111111111\n",
      "121212121212121212121212\n",
      "13131313131313131313131313\n",
      "1414141414141414141414141414\n",
      "151515151515151515151515151515\n",
      "16161616161616161616161616161616\n",
      "1717171717171717171717171717171717\n",
      "181818181818181818181818181818181818\n",
      "19191919191919191919191919191919191919\n",
      "2020202020202020202020202020202020202020\n"
     ]
    }
   ],
   "source": [
    "N=int(input(\"Enter a Integer: \"))\n",
    "for i in range(N):\n",
    "    for j in range(i+1):\n",
    "        print(i+1,end=\"\")\n",
    "    print()    \n",
    "    "
   ]
  },
  {
   "cell_type": "markdown",
   "id": "633a419c",
   "metadata": {},
   "source": [
    "### Solution_5\n"
   ]
  },
  {
   "cell_type": "markdown",
   "id": "191d03d8",
   "metadata": {},
   "source": [
    "### A"
   ]
  },
  {
   "cell_type": "code",
   "execution_count": 50,
   "id": "da72df84",
   "metadata": {},
   "outputs": [
    {
     "name": "stdout",
     "output_type": "stream",
     "text": [
      "Enter an Integer: 1331\n",
      "Number is pelindrome!\n"
     ]
    }
   ],
   "source": [
    "N_1=input(\"Enter an Integer: \")\n",
    "for i in range(int(len(N_1)/2)):\n",
    "    if N_1[i]!=N_1[len(N_1)-i-1]:\n",
    "        print(\"Number is not pelindrome!\")\n",
    "        break\n",
    "    else:\n",
    "        print(\"Number is pelindrome!\")\n",
    "        break"
   ]
  },
  {
   "cell_type": "markdown",
   "id": "73f13427",
   "metadata": {},
   "source": [
    "### B\n"
   ]
  },
  {
   "cell_type": "code",
   "execution_count": 56,
   "id": "a8633104",
   "metadata": {},
   "outputs": [
    {
     "name": "stdout",
     "output_type": "stream",
     "text": [
      "Enter an string : A man, a pan, a canal, Panama\n",
      "String is pelindrome!\n"
     ]
    }
   ],
   "source": [
    "N_1=input(\"Enter an string : \")\n",
    "N_1=N_1.upper()\n",
    "N_2=\"\"\n",
    "for i in N_1:\n",
    "    if i!=\" \" or i!=\",\":\n",
    "        N_2+=i\n",
    "N_1=N_2       \n",
    "for i in range(int(len(N_1)/2)):\n",
    "    if N_1[i]!=N_1[len(N_1)-i-1]:\n",
    "        print(\"String is not pelindrome!\")\n",
    "        break\n",
    "    else:\n",
    "        print(\"String is pelindrome!\")\n",
    "        break"
   ]
  },
  {
   "cell_type": "markdown",
   "id": "0cf6f120",
   "metadata": {},
   "source": [
    "### Solution_6"
   ]
  },
  {
   "cell_type": "markdown",
   "id": "ca1e11a9",
   "metadata": {},
   "source": [
    "We have ASCII ( American Standard Code for Information Interchange) Table which has ordered all the used symbols such as Uppere case alphabates ,Lowercase alphabates, alphanumerics @,#,$ etc\\\\\\ So chr(n) will give the assign symbol to that number in the ordering in ASCII table and ord(' ') will give integer to that symbol."
   ]
  },
  {
   "cell_type": "code",
   "execution_count": 62,
   "id": "b8acc808",
   "metadata": {},
   "outputs": [
    {
     "name": "stdout",
     "output_type": "stream",
     "text": [
      "a b c d\n",
      "65 66 67 68\n"
     ]
    }
   ],
   "source": [
    "print(chr(97),chr(98),chr(99),chr(100))\n",
    "print(ord('A'),ord('B'),ord('C'),ord('D'))"
   ]
  },
  {
   "cell_type": "code",
   "execution_count": 66,
   "id": "4b80c4a5",
   "metadata": {},
   "outputs": [
    {
     "name": "stdout",
     "output_type": "stream",
     "text": [
      "A \n",
      "B B \n",
      "C C C \n",
      "D D D D \n",
      "E E E E E \n",
      "F F F F F F \n",
      "G G G G G G G \n",
      "H H H H H H H H \n",
      "I I I I I I I I I \n",
      "J J J J J J J J J J \n",
      "K K K K K K K K K K K \n",
      "L L L L L L L L L L L L \n",
      "M M M M M M M M M M M M M \n",
      "N N N N N N N N N N N N N N \n",
      "O O O O O O O O O O O O O O O \n",
      "P P P P P P P P P P P P P P P P \n",
      "Q Q Q Q Q Q Q Q Q Q Q Q Q Q Q Q Q \n",
      "R R R R R R R R R R R R R R R R R R \n"
     ]
    }
   ],
   "source": [
    "for i in range(18):\n",
    "    for j in range(i+1):\n",
    "        print(chr(65+i),end=\" \")\n",
    "    print()    \n"
   ]
  },
  {
   "cell_type": "markdown",
   "id": "8fe50eee",
   "metadata": {},
   "source": [
    "### Solution_7"
   ]
  },
  {
   "cell_type": "markdown",
   "id": "af8ba999",
   "metadata": {},
   "source": [
    "#### a"
   ]
  },
  {
   "cell_type": "code",
   "execution_count": 104,
   "id": "705878db",
   "metadata": {},
   "outputs": [
    {
     "name": "stdout",
     "output_type": "stream",
     "text": [
      "[['Manoj', 'MA22M006', '14-02-2023', '2000KM'], ['Nitish', 'MA22M021', '08-02-2023', '1500KM'], ['Sohit', 'MA22M019', '04-02-2023', '1700KM'], ['Umair', 'MA22M007', '05-02-2023', '2700KM'], ['Vidipt', 'MA22M023', '12-02-2023', '1200KM']]\n",
      "[['Manoj', 'MA22M006', '14-02-2023', '2000KM'], ['Mohit', 'MA22M008', '18-02-2023', '1200KM'], ['Nitish', 'MA22M021', '08-02-2023', '1500KM'], ['Sohit', 'MA22M019', '04-02-2023', '1700KM'], ['Umair', 'MA22M007', '05-02-2023', '2700KM'], ['Vidipt', 'MA22M023', '12-02-2023', '1200KM']]\n",
      "[['Manoj', 'MA22M006', '14-02-2023', '2000KM'], ['Mohit', 'MA22M008', '18-02-2023', '1200KM'], ['Sohit', 'MA22M019', '04-02-2023', '1700KM'], ['Umair', 'MA22M007', '05-02-2023', '2700KM'], ['Vidipt', 'MA22M023', '12-02-2023', '1200KM']]\n",
      "[['Sameer', 'MA22M024', '028-02-2023', '1000KM'], ['Manoj', 'MA22M006', '14-02-2023', '2000KM'], ['Mohit', 'MA22M008', '18-02-2023', '1200KM'], ['Sohit', 'MA22M019', '04-02-2023', '1700KM'], ['Umair', 'MA22M007', '05-02-2023', '2700KM'], ['Vidipt', 'MA22M023', '12-02-2023', '1200KM']]\n",
      "[['Manoj', 'MA22M006', '14-02-2023', '2000KM'], ['Mohit', 'MA22M008', '18-02-2023', '1200KM'], ['Sameer', 'MA22M024', '028-02-2023', '1000KM'], ['Sohit', 'MA22M019', '04-02-2023', '1700KM'], ['Umair', 'MA22M007', '05-02-2023', '2700KM'], ['Vidipt', 'MA22M023', '12-02-2023', '1200KM']]\n"
     ]
    }
   ],
   "source": [
    "P_1=['Sohit','MA22M019','04-02-2023','1700KM']\n",
    "P_2=['Umair','MA22M007','05-02-2023','2700KM']\n",
    "P_3=['Nitish','MA22M021','08-02-2023','1500KM']\n",
    "P_4=['Vidipt','MA22M023','12-02-2023','1200KM']\n",
    "P_5=['Manoj','MA22M006','14-02-2023','2000KM']\n",
    "airline_tickets=[P_1,P_2,P_3,P_4,P_5]\n",
    "airline_tickets.sort()\n",
    "P_6=['Mohit','MA22M008','18-02-2023','1200KM']\n",
    "print(airline_tickets)\n",
    "#(B)\n",
    "\n",
    "airline_tickets.append(P_6)\n",
    "airline_tickets.sort()\n",
    "print(airline_tickets)\n",
    "\n",
    "#(c)\n",
    "airline_tickets.remove(P_3)\n",
    "print(airline_tickets)\n",
    "\n",
    "# (d)\n",
    "P_7=['Sameer','MA22M024','028-02-2023','1000KM']\n",
    "airline_tickets.insert(0,P_7)\n",
    "print(airline_tickets)\n",
    "\n",
    "# (f)\n",
    "airline_tickets.sort()\n",
    "print(airline_tickets)"
   ]
  },
  {
   "cell_type": "markdown",
   "id": "fd0d3996",
   "metadata": {},
   "source": [
    "### Solution_8"
   ]
  },
  {
   "cell_type": "markdown",
   "id": "997c748d",
   "metadata": {},
   "source": [
    "### (a)"
   ]
  },
  {
   "cell_type": "code",
   "execution_count": 73,
   "id": "ba383323",
   "metadata": {},
   "outputs": [
    {
     "name": "stdout",
     "output_type": "stream",
     "text": [
      "[668, 46, 332, 977, 1069, 48, 71]\n"
     ]
    }
   ],
   "source": [
    "lst_1=[23,45,65,87,89,3,4]\n",
    "lst_2=[645,1,267,890,980,45,67]\n",
    "add_lst_1_lst_2=[lst_1[i]+lst_2[i] for i in range(len(lst_1))]\n",
    "print(add_lst_1_lst_2)"
   ]
  },
  {
   "cell_type": "markdown",
   "id": "7287e96c",
   "metadata": {},
   "source": [
    "### (b)\n"
   ]
  },
  {
   "cell_type": "code",
   "execution_count": 74,
   "id": "e8e371a2",
   "metadata": {},
   "outputs": [
    {
     "name": "stdout",
     "output_type": "stream",
     "text": [
      "[14835, 45, 17355, 77430, 87220, 135, 268]\n"
     ]
    }
   ],
   "source": [
    "mul_lst_1_lst_2=[lst_1[i]*lst_2[i] for i in range(len(lst_1))]\n",
    "print(mul_lst_1_lst_2)"
   ]
  },
  {
   "cell_type": "markdown",
   "id": "d6c8803f",
   "metadata": {},
   "source": [
    "### (c)"
   ]
  },
  {
   "cell_type": "code",
   "execution_count": 84,
   "id": "ca4c9b13",
   "metadata": {},
   "outputs": [
    {
     "name": "stdout",
     "output_type": "stream",
     "text": [
      "['a']\n"
     ]
    }
   ],
   "source": [
    "import string\n",
    "str_22='manoj_kumar_patel'\n",
    "\n",
    "unique_char=[chr(i+97) for i in range(26) if str_22.find(chr(i+97))==1 ]\n",
    "print(unique_char)"
   ]
  },
  {
   "cell_type": "markdown",
   "id": "6327cb4d",
   "metadata": {},
   "source": [
    "### Solution_9"
   ]
  },
  {
   "cell_type": "markdown",
   "id": "142e3fd5",
   "metadata": {},
   "source": [
    "### (a)"
   ]
  },
  {
   "cell_type": "code",
   "execution_count": 90,
   "id": "32b1bc0b",
   "metadata": {},
   "outputs": [
    {
     "name": "stdout",
     "output_type": "stream",
     "text": [
      "[[24, 77, 33], [75, 69, 478], [40, 922, 132], [132, 154, 176], [121, 280, 127]]\n"
     ]
    }
   ],
   "source": [
    "mat_1=[[21,32,34,54,34],[43,4,43,64,46],[21,43,65,87,98]]\n",
    "mat_2=[[3,43,6,78,87],[34,65,879,90,234],[12,435,67,89,29]]\n",
    "mat_1_sum_mat_2=[[mat_1[i][j]+mat_2[i][j] for i in range(len(mat_1))] for j in range(len(mat_1[0])) ]\n",
    "print(mat_1_sum_mat_2)"
   ]
  },
  {
   "cell_type": "markdown",
   "id": "da71f5d3",
   "metadata": {},
   "source": [
    "### (b)"
   ]
  },
  {
   "cell_type": "code",
   "execution_count": 91,
   "id": "6eff0200",
   "metadata": {},
   "outputs": [
    {
     "name": "stdout",
     "output_type": "stream",
     "text": [
      "[[63, 1462, 252], [1376, 260, 18705], [204, 37797, 4355], [4212, 5760, 7743], [2958, 10764, 2842]]\n"
     ]
    }
   ],
   "source": [
    "\n",
    "mat_1_mul_mat_2=[[mat_1[i][j]*mat_2[i][j] for i in range(len(mat_1))] for j in range(len(mat_1[0])) ]\n",
    "print(mat_1_mul_mat_2)"
   ]
  },
  {
   "cell_type": "markdown",
   "id": "0acd5bec",
   "metadata": {},
   "source": [
    "### SolutioN_10"
   ]
  },
  {
   "cell_type": "code",
   "execution_count": 93,
   "id": "34370c9f",
   "metadata": {},
   "outputs": [
    {
     "name": "stdout",
     "output_type": "stream",
     "text": [
      "Manoj friend name is Sohit and he is 12km away from building no.13 and i need rs 2300 from him \n"
     ]
    }
   ],
   "source": [
    "a=12\n",
    "b=2300\n",
    "c=13\n",
    "d='Manoj'\n",
    "f=\"Sohit\"\n",
    "print('{3} friend name is {4} and he is {0}km away from building no.{2} and i need rs {1} from him.'.format(a,b,c,d,f))"
   ]
  },
  {
   "cell_type": "markdown",
   "id": "0da32b97",
   "metadata": {},
   "source": [
    "### Solution_11"
   ]
  },
  {
   "cell_type": "code",
   "execution_count": 96,
   "id": "8cf40a9c",
   "metadata": {},
   "outputs": [
    {
     "name": "stdout",
     "output_type": "stream",
     "text": [
      "Enter Three Numbers:46 9 1\n",
      "46 is maximum\n"
     ]
    }
   ],
   "source": [
    "a,b,c=input(\"Enter Three Numbers:\").split()\n",
    "a=int(a)\n",
    "b=int(b)\n",
    "c=int(c)\n",
    "if a>b:\n",
    "    if a>c:\n",
    "        print('{} is maximum'.format(a))\n",
    "    else:\n",
    "        print('{} is maximu'.format(c))\n",
    "else:\n",
    "    if a<c:\n",
    "        print('{} is maximum'.format(c))\n",
    "    else:\n",
    "        print('{} is maximum'.format(a))"
   ]
  },
  {
   "cell_type": "code",
   "execution_count": null,
   "id": "ca0d8253",
   "metadata": {},
   "outputs": [],
   "source": []
  }
 ],
 "metadata": {
  "kernelspec": {
   "display_name": "Python 3 (ipykernel)",
   "language": "python",
   "name": "python3"
  },
  "language_info": {
   "codemirror_mode": {
    "name": "ipython",
    "version": 3
   },
   "file_extension": ".py",
   "mimetype": "text/x-python",
   "name": "python",
   "nbconvert_exporter": "python",
   "pygments_lexer": "ipython3",
   "version": "3.9.13"
  }
 },
 "nbformat": 4,
 "nbformat_minor": 5
}
