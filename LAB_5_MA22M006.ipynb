{
 "cells": [
  {
   "cell_type": "markdown",
   "id": "52e875f4",
   "metadata": {},
   "source": [
    "### Classes and objects"
   ]
  },
  {
   "cell_type": "markdown",
   "id": "987c17ef",
   "metadata": {},
   "source": [
    "Ans_1\n",
    "Define a class Complex that defines a complex number with attributes real and imaginary (as we did in the class). Define operators for addition, subtraction, multiplication and division (should work for ‘/’ and ‘//’) (Do with both operator overloading as well as without overloading). While printing the output, print in the form of complex number form like ( a + ib)"
   ]
  },
  {
   "cell_type": "code",
   "execution_count": 198,
   "id": "dce76aa8",
   "metadata": {},
   "outputs": [
    {
     "name": "stdout",
     "output_type": "stream",
     "text": [
      "2 + i 1\n",
      "1 + i 1\n",
      "1 - i 2\n",
      "-0.2 + i 0.2\n",
      "-0.2 + i 0.2\n"
     ]
    }
   ],
   "source": [
    "class Complex:\n",
    "    def __init__(self,a=0,b=0):  # constructer\n",
    "        self.real=a\n",
    "        self.imaginary=b\n",
    "    def print_com(self):   #print method\n",
    "        if self.imaginary>0:\n",
    "            print(\"{} + i {}\".format(self.real,self.imaginary))\n",
    "        else:\n",
    "            print(\"{} - i {}\".format(self.real,abs(self.imaginary)))\n",
    "    def add_com(self,other):  #method to add two commplex number  z1+z2\n",
    "        c=Complex(self.real+other.real,self.imaginary+other.imaginary)\n",
    "        return(c)\n",
    "    def sub_com(self,other):  #method to subtract two commplex number z1-z2\n",
    "        c=Complex(self.real-other.real,self.imaginary-other.imaginary)\n",
    "        return(c)\n",
    "    def mul_com(self,other):  #method to multiply two commplex number z1*z2\n",
    "        r=self.real*other.real-self.imaginary*other.imaginary\n",
    "        i=self.real*other.imaginary-self.imaginary*other.real\n",
    "        c=Complex(r,i)\n",
    "        return(c)\n",
    "    #                                        _\n",
    "    def conjugate_c(self):  # conjugate z--->z\n",
    "        c=Complex(self.real,-self.imaginary)\n",
    "        return(c)\n",
    "    def div_com(self,other):  #method to divide two commplex number z1/z1\n",
    "        n=self.mul_com(other.conjugate_c())\n",
    "        d=other.mul_com(other.conjugate_c())\n",
    "        r=n.real/d.real\n",
    "        i=n.imaginary/d.real\n",
    "        c=Complex(r,i)\n",
    "        return(c)\n",
    "# Operator overloading\n",
    "    def __add__(self,other):  #method to add two commplex number  z1+z2\n",
    "        c=Complex(self.real+other.real,self.imaginary+other.imaginary)\n",
    "        return(c)\n",
    "    def __sub__(self,other):  #method to subtract two commplex number z1-z2\n",
    "        c=Complex(self.real-other.real,self.imaginary-other.imaginary)\n",
    "        return(c)\n",
    "    def __mul__(self,other):  #method to multiply two commplex number z1*z2\n",
    "        r=self.real*other.real-self.imaginary*other.imaginary\n",
    "        i=self.real*other.imaginary-self.imaginary*other.real\n",
    "        c=Complex(r,i)\n",
    "        return(c)\n",
    "    def __truediv__(self,other):  #method to divide two commplex number z1/z1\n",
    "        n=self.mul_com(other.conjugate_c())\n",
    "        d=other.mul_com(other.conjugate_c())\n",
    "        r=n.real/d.real\n",
    "        i=n.imaginary/d.real\n",
    "        c=Complex(r,i)\n",
    "        return(c)\n",
    "Z1=Complex(1,1)\n",
    "Z2=Complex(1,-2)\n",
    "z=Z1+Z2\n",
    "(z.conjugate_c()).print_com()\n",
    "Z1.print_com()\n",
    "Z2.print_com()\n",
    "Z1.div_com(Z2).print_com()\n",
    "(Z1/Z2).print_com()"
   ]
  },
  {
   "cell_type": "markdown",
   "id": "505f69ea",
   "metadata": {},
   "source": [
    "Ans_2  Define a Matrix class of dimensions m X n (the values for m and n can be taken as input). Demonstrate matrix addition, subtraction, multiplication, element-by-element multiplication, scalar multiplication (use map here). Use operator overloading wherever possible. (Hint: In the constructor, use 'random' and create list of list using list comprehension. In the arguments of constructor, send the number of rows and columns)"
   ]
  },
  {
   "cell_type": "code",
   "execution_count": 178,
   "id": "8e12d128",
   "metadata": {},
   "outputs": [],
   "source": [
    "class Matrix:\n",
    "    def __init__(self,m,n):  #constructer\n",
    "        self.nrows=m\n",
    "        self.ncols=n\n",
    "    def getMatrix(self):\n",
    "         self.M=[[int(input('Enter the {0}{1} th entry: '.format(i+1,j+1))) \n",
    "                  for j in range(self.ncols)]for i in range(self.nrows)]\n",
    "    def print_matrix(self):\n",
    "        print(self.M)\n",
    "    def __add__(self,other):\n",
    "        M=Matrix(self.nrows,self.ncols)\n",
    "        M.M=[list(map(lambda a,b:a+b,self.M[i],other.M[i])) for i in range(len(self.M))]\n",
    "        return M\n",
    "    def __sub__(self,other):\n",
    "        M=Matrix(self.nrows,self.ncols)\n",
    "        M.M=[list(map(lambda a,b:a-b,self.M[i],other.M[i])) for i in range(len(self.M))]\n",
    "        return M\n",
    "    def __mul__(self,other):\n",
    "        M=Matrix(self.nrows,self.ncols)\n",
    "        M.M=[[sum([self.M[i][k]*other.M[k][j] for k in range(len(self.M[0]))])for j in range(len(other.M[0]))] for i in range(len(self.M))]\n",
    "        return M\n",
    "    def point_mul(self,other):\n",
    "        M=Matrix(self.nrows,self.ncols)\n",
    "        M.M=[list(map(lambda a,b:a*b,self.M[i],other.M[i])) for i in range(len(self.M))]\n",
    "        return M\n",
    "\n",
    "             \n"
   ]
  },
  {
   "cell_type": "code",
   "execution_count": 199,
   "id": "299f2a1b",
   "metadata": {},
   "outputs": [
    {
     "name": "stdout",
     "output_type": "stream",
     "text": [
      "Enter the 11 th entry: 2\n",
      "Enter the 12 th entry: 33\n",
      "Enter the 21 th entry: 4\n",
      "Enter the 22 th entry: 4\n"
     ]
    }
   ],
   "source": [
    "M1=Matrix(2,2)    \n",
    "M1.getMatrix()"
   ]
  },
  {
   "cell_type": "code",
   "execution_count": 191,
   "id": "fc8b45f1",
   "metadata": {},
   "outputs": [
    {
     "name": "stdout",
     "output_type": "stream",
     "text": [
      "Enter the 11 th entry: 2\n",
      "Enter the 12 th entry: 3\n",
      "Enter the 13 th entry: 44\n",
      "Enter the 21 th entry: 5\n",
      "Enter the 22 th entry: 5\n",
      "Enter the 23 th entry: 6\n"
     ]
    }
   ],
   "source": [
    "M2=Matrix(2,3)\n",
    "M2.getMatrix()"
   ]
  },
  {
   "cell_type": "code",
   "execution_count": 192,
   "id": "79c1df7a",
   "metadata": {},
   "outputs": [
    {
     "name": "stdout",
     "output_type": "stream",
     "text": [
      "[[26, 29, 156], [40, 45, 256]]\n"
     ]
    }
   ],
   "source": [
    "(M1*M2).print_matrix()"
   ]
  },
  {
   "cell_type": "code",
   "execution_count": 194,
   "id": "f4e45ffa",
   "metadata": {},
   "outputs": [
    {
     "name": "stdout",
     "output_type": "stream",
     "text": [
      "Enter the 11 th entry: 3\n",
      "Enter the 12 th entry: 4\n",
      "Enter the 13 th entry: 5\n",
      "Enter the 21 th entry: 6\n",
      "Enter the 22 th entry: 8\n",
      "Enter the 23 th entry: 9\n"
     ]
    }
   ],
   "source": [
    "M3=Matrix(2,3)\n",
    "M3.getMatrix()"
   ]
  },
  {
   "cell_type": "code",
   "execution_count": 197,
   "id": "8623fb48",
   "metadata": {},
   "outputs": [
    {
     "name": "stdout",
     "output_type": "stream",
     "text": [
      "[[5, 7, 49], [11, 13, 15]]\n"
     ]
    }
   ],
   "source": [
    "(M3+M2).print_matrix()"
   ]
  },
  {
   "cell_type": "markdown",
   "id": "cd58f6d4",
   "metadata": {},
   "source": [
    " Ans_3 Multilevel Inheritance: Demonstrate multilevel inheritance in each of the classes Complex and Matrix of Questions 1 and 2 respectively. (Use some functions in the base classes, move others to the inherited class as well as call the base class methods inside the inherited class)"
   ]
  },
  {
   "cell_type": "markdown",
   "id": "131859d2",
   "metadata": {},
   "source": [
    "Ans_4 Football players Records"
   ]
  },
  {
   "cell_type": "code",
   "execution_count": 59,
   "id": "08658435",
   "metadata": {},
   "outputs": [
    {
     "name": "stdout",
     "output_type": "stream",
     "text": [
      "Name: Sohit Country: England Age: 25\n",
      "Club_name: Manchester_united Contract_time: 4\n",
      "Goals: 100 Matches: 90\n",
      "Name: Manoj Country: India Age: 26\n",
      "Club_name: Liverpool Contract_time: 3\n",
      "1.1111111111111112\n",
      "Name: Sohit Country: England Age: 25\n",
      "Name: Manoj Country: India Age: 26\n"
     ]
    }
   ],
   "source": [
    "#Parent Class\n",
    "class Player:\n",
    "    def get_details(self,name='Chinmay',country='India',age='22'): # A kind of constructer\n",
    "        self.Player_name=name\n",
    "        self.Country=country\n",
    "        self.Age=age\n",
    "    def print_details(self):\n",
    "        print('Name:',self.Player_name,'Country:',self.Country,'Age:',self.Age)\n",
    "#Derived Class form Player class\n",
    "class Club(Player):\n",
    "    def get_club_details(self,name,country,age,club_name,contract_time):\n",
    "        super().get_details(name,country,age) # base class method\n",
    "        self.Club_name=club_name\n",
    "        self.Contract_time=contract_time\n",
    "    def print_details(self):\n",
    "        super().print_details() #base calss method\n",
    "        print('Club_name:',self.Club_name,'Contract_time:',self.Contract_time)\n",
    "#Derived class from Club class\n",
    "class Records(Club):\n",
    "    def get_record(self,name,country,age,club_name,contract_time,goals,matches):\n",
    "        super().get_club_details(name,country,age,club_name,contract_time)\n",
    "        self.Goals=goals\n",
    "        self.Matches=matches\n",
    "    def print_details(self):\n",
    "        super().print_details()\n",
    "        print('Goals:',self.Goals,'Matches:',self.Matches)\n",
    "    def Goals_per_match(self):  # \n",
    "        return(self.Goals/self.Matches)\n",
    "ob1=Club()  # object from club class  \n",
    "ob2=Records() # object from records class\n",
    "ob1.get_club_details('Manoj',\"India\",26,'Liverpool',3) #method from Club class\n",
    "ob2.get_record('Sohit','England',25,'Manchester_united',4,100,90) # method fromm Records class\n",
    "ob2.print_details()\n",
    "ob1.print_details()\n",
    "print(ob2.Goals_per_match())\n",
    "#Accessing the functionn using class name\n",
    "Player.print_details(ob2)\n",
    "Player.print_details(ob1)\n",
    "        "
   ]
  },
  {
   "cell_type": "markdown",
   "id": "0a78a45f",
   "metadata": {},
   "source": [
    "Ans_5 Restaurant Billing and Management System ( Akshat Sharda)"
   ]
  },
  {
   "cell_type": "code",
   "execution_count": 205,
   "id": "83959272",
   "metadata": {},
   "outputs": [
    {
     "name": "stdout",
     "output_type": "stream",
     "text": [
      "200\n",
      "214.0\n"
     ]
    }
   ],
   "source": [
    "#Parent Class\n",
    "class Bill:\n",
    "    def __init__(self,customer_name,table_number,time,order): #constructer \n",
    "        self.Customer_name=customer_name\n",
    "        self.Table_number=table_number\n",
    "        self.Time=time\n",
    "        self.Order=order\n",
    "    def order_details(self):\n",
    "        order1=self.Order.rsplit(',')\n",
    "        #print(order1)\n",
    "        details=[item.rsplit('x') for item in order1]\n",
    "        #print(details)\n",
    "        return(details)\n",
    "class RestaurantBill(Bill):\n",
    "    def __init__(self,customer_name,table_number,time,order,menu_list):\n",
    "        super().__init__(customer_name,table_number,time,order) # using the base class constructer\n",
    "        self.MenuList=menu_list # extra attribute \n",
    "    def net_amt(self):\n",
    "        menu=self.MenuList.rsplit(',')\n",
    "        #print(menu)\n",
    "        total=0\n",
    "        for i in self.order_details():\n",
    "            for j in menu:\n",
    "                if j.count(i[0]):\n",
    "                    s=j.rsplit('-')\n",
    "                    total+=int(s[1])*int(i[1])\n",
    "                    break\n",
    "        return(total)\n",
    "    all_bill={}\n",
    "    def tot_amt(self):\n",
    "        #Gst=5%\n",
    "        #ServiceTax =2%\n",
    "        total=self.net_amt()+self.net_amt()*(7/100)\n",
    "        return(total)\n",
    "   # def Bill_list(date):\n",
    "ord1=RestaurantBill('Manoj',2,'25 Feb 09:38','Chaapatix5,daalfryx1,paneermasalax1','Chaapati-10,daalfry-50,paneermasala-100')    \n",
    "        \n",
    "print(ord1.net_amt())    \n",
    "print(ord1.tot_amt())\n",
    "    \n",
    "        "
   ]
  },
  {
   "cell_type": "markdown",
   "id": "1389a314",
   "metadata": {},
   "source": [
    "Ans_6  6.     Vehicle Fuel Level Monitoring ( Amina Ashraf)\n",
    "\n"
   ]
  },
  {
   "cell_type": "code",
   "execution_count": 209,
   "id": "963c5655",
   "metadata": {},
   "outputs": [
    {
     "name": "stdout",
     "output_type": "stream",
     "text": [
      "Running low on fuel\n",
      "Fuel level is:  5\n",
      "Full tank\n"
     ]
    }
   ],
   "source": [
    "class vehicle:\n",
    "    def getVehicledetails(self,vehicle_type,vehicle_brand,vehicle_model,vehicle_max_fuel,vehicle_fuel_level):\n",
    "        self.vehicle_type=vehicle_type\n",
    "        self.vehicle_brand=vehicle_brand\n",
    "        self.vehicle_model=vehicle_model\n",
    "        self.vehicle_max_fuel=vehicle_max_fuel\n",
    "        self.vehicle_fuel_level=vehicle_fuel_level\n",
    "    def checkFuellLevel(self):\n",
    "        if self.vehicle_fuel_level==self.vehicle_max_fuel:\n",
    "            print('Full tank')\n",
    "        elif self.vehicle_fuel_level<=(self.vehicle_max_fuel)/10:\n",
    "            print(\"Running low on fuel\")\n",
    "        else:\n",
    "            print('Fuel level is: ',self.vehicle_fuel_level)\n",
    "v1=vehicle()\n",
    "v1.getVehicledetails('Bus','TATA','2023',45,3)\n",
    "v1.checkFuellLevel()\n",
    "v1.getVehicledetails('Bus','TATA','2023',45,5)\n",
    "v1.checkFuellLevel()\n",
    "v1.getVehicledetails('Bus','TATA','2023',45,45)\n",
    "v1.checkFuellLevel()\n",
    "\n"
   ]
  },
  {
   "cell_type": "markdown",
   "id": "9ca7363d",
   "metadata": {},
   "source": [
    "7.     Class hierarchy for bank stock investment with profit calculation for investors "
   ]
  },
  {
   "cell_type": "code",
   "execution_count": 212,
   "id": "763d6fb1",
   "metadata": {},
   "outputs": [
    {
     "name": "stdout",
     "output_type": "stream",
     "text": [
      "Total cost = 47218.0 INR\n",
      "Current cost = 47431.5 INR\n",
      "The Profits are: \n",
      " \n",
      "hdfc     3.62 %   594.0 INR \n",
      "\n",
      " Icici     -1.41 %   -361.5 INR \n",
      "\n",
      " sbi     -0.36 %   -19.0 INR \n",
      "\n",
      " total    0.45 %   213.5 INR \n"
     ]
    }
   ],
   "source": [
    "class Bank_Stocks:\n",
    "    def __init__(self):   #constructer\n",
    "        self.hdfc = [1640.35, 1646.50, 1614.20, 1603.25, 1699.75]\n",
    "        self.icici = [852.10, 854.20, 839.25, 839.75, 840.05]\n",
    "        self.sbi = [525.15, 523.45, 516.35, 521.00, 523.25]\n",
    "        self.date='24022023'\n",
    "class Investor(Bank_Stocks):\n",
    "    def __init__(self,name,Id,stocks_owned,buy_date):\n",
    "        super().__init__()\n",
    "        self.name=name\n",
    "        self.Id=Id\n",
    "        self.stocks_owned=stocks_owned\n",
    "        self.buy_date=buy_date\n",
    "    def get_input():\n",
    "        name=input('Enter the name of investor: ')\n",
    "        self.name=name\n",
    "        Id=('Enter the Id of investor: ')\n",
    "        self.Id=Id\n",
    "        a,b,c=input('Enter the list of stocks owned by investor: ').split()\n",
    "        stocks_owned=[int(a),int(b),int(c)]\n",
    "        self.stocks_owned=stocks_owned\n",
    "        date=input('Enter the date: ')\n",
    "        self.buy_date=buy_date\n",
    "    def calculate_profit_today(self):\n",
    "        Day={'20022023':0,'21022023':1,'22022023':2,'23022023':3,'24022023':4}\n",
    "        total_cost=self.hdfc[Day[self.buy_date]]*self.stocks_owned[0]+self.icici[Day[self.buy_date]]*self.stocks_owned[1]+self.sbi[Day[self.buy_date]]*self.stocks_owned[2]\n",
    "        current_price=(self.hdfc[4]*self.stocks_owned[0]+self.icici[4]*self.stocks_owned[1]+self.sbi[4]*self.stocks_owned[2])\n",
    "        print('Total cost = {} INR'.format(total_cost))\n",
    "        print('Current cost = {} INR'.format(current_price))\n",
    "        x=0\n",
    "        y=0\n",
    "        z=0\n",
    "        x1=(self.hdfc[4]*self.stocks_owned[0]-self.hdfc[Day[self.buy_date]]*self.stocks_owned[0])\n",
    "        if (self.hdfc[Day[self.buy_date]]*self.stocks_owned[0])!=0:\n",
    "            x=x1*100/(self.hdfc[Day[self.buy_date]]*self.stocks_owned[0])\n",
    "        y1=(self.icici[4]*self.stocks_owned[1]-self.icici[Day[self.buy_date]]*self.stocks_owned[1])\n",
    "        if (self.icici[Day[self.buy_date]]*self.stocks_owned[1])!=0:\n",
    "            y=y1*100/(self.icici[Day[self.buy_date]]*self.stocks_owned[1])\n",
    "        z1=(self.sbi[4]*self.stocks_owned[2]-self.sbi[Day[self.buy_date]]*self.stocks_owned[2])\n",
    "        if (self.sbi[Day[self.buy_date]]*self.stocks_owned[2])!=0:\n",
    "            z=z1*100/(self.sbi[Day[self.buy_date]]*self.stocks_owned[2])\n",
    "        t1=-total_cost+current_price\n",
    "        T=t1*100/total_cost\n",
    "        print('The Profits are: \\n \\nhdfc     {} %   {} INR \\n\\n Icici     {} %   {} INR \\n\\n sbi     {} %   {} INR \\n\\n total    {} %   {} INR '.format(round(x,2),x1,round(y,2),y1,round(z,2),z1,round(T,2),t1))\n",
    "I1=Investor('Manoj','MA22M006',[10,30,10],'20022023')\n",
    "\n",
    "I1.calculate_profit_today()\n",
    "        "
   ]
  },
  {
   "cell_type": "markdown",
   "id": "8e8e1f7b",
   "metadata": {},
   "source": [
    "8.     Class Inheritance in Python: Finding GCD (greatest common divisor) and LCM (least common multiple) of Numbers and Handling Composite Numbers."
   ]
  },
  {
   "cell_type": "code",
   "execution_count": 224,
   "id": "6cbb565a",
   "metadata": {},
   "outputs": [
    {
     "name": "stdout",
     "output_type": "stream",
     "text": [
      "6\n"
     ]
    }
   ],
   "source": [
    " class Number:\n",
    "        def __init__(self,a,b):\n",
    "            self.a=a\n",
    "            self.b=b\n",
    "        def find_gcd(self):\n",
    "            y=self.b\n",
    "            x=self.a\n",
    "            while(y):\n",
    "                x, y = y, x % y\n",
    "            return abs(x)\n",
    "        def find_lcm(self):\n",
    "            #print('hey')\n",
    "            x=self.a\n",
    "            #print(x)\n",
    "            y=self.b\n",
    "            #print(y)\n",
    "            l=(x*y/self.find_gcd())\n",
    "            print(l)\n",
    "            #return int(l)\n",
    "class EvenNumbers(Number):\n",
    "    def __init__(self,a,b):\n",
    "        super().__init__(a,b)\n",
    "    def find_lcm(self):\n",
    "        super().find_lcm()\n",
    "class OddNumbers(Number):\n",
    "    def __init__(self,a,b):\n",
    "        super().__init__(a,b)\n",
    "    def find_lcm(self):\n",
    "        super().find_lcm()\n",
    "        \n",
    "class CompositeNumbers(EvenNumbers,OddNumbers):\n",
    "    def __init__(self,a,b):\n",
    "        super().__init__(a,b)\n",
    "   \n",
    "        \n",
    "        \n",
    "        \n",
    "        \n",
    "        \n",
    "        \n",
    "x=CompositeNumbers(12,18)\n",
    "print(x.find_gcd())\n",
    "#print(x.find_lcm())\n",
    "            "
   ]
  },
  {
   "cell_type": "markdown",
   "id": "68dd8b37",
   "metadata": {},
   "source": []
  },
  {
   "cell_type": "markdown",
   "id": "b4e05147",
   "metadata": {},
   "source": [
    "Ans_9  Suppose you are building a Python program to manage a school's student data. You need to create a Student class that contains information such as the student's name, age, grade, and class schedule. Additionally, there are some attributes that are shared by all students, such as the school name, the total number of students, and the number of classes offered.\n",
    "How can you use class variables in Python to define these shared attributes of the Student class? What are the advantages of using class variables in this scenario? Can you provide an example program that demonstrates the use of class variables in the Student class?\n",
    "\n"
   ]
  },
  {
   "cell_type": "code",
   "execution_count": 231,
   "id": "bd6263f1",
   "metadata": {},
   "outputs": [
    {
     "name": "stdout",
     "output_type": "stream",
     "text": [
      "3\n",
      "Manoj IIT Madras 8.0 25\n",
      "Saikat IIT Bombay 10.0 25\n",
      "Mohit IIT Guahati 10.0 25\n"
     ]
    }
   ],
   "source": [
    "class School:\n",
    "    total_stu=0  #class variable\n",
    "    def __init__(self,school_name,num_clases):\n",
    "        self.schoolname=school_name\n",
    "        self.Num_class=num_clases\n",
    "class Student(School):\n",
    "    def __init__(self,school_name,num_clases,name,age,grade,class_sche):\n",
    "        super().__init__(school_name,num_clases)\n",
    "        self.s_name=name\n",
    "        self.age=age\n",
    "        self.grade=grade\n",
    "        self.class_schedule=class_sche\n",
    "        School.total_stu+=1\n",
    "    def print_de(self):\n",
    "        print(self.s_name,self.schoolname,self.grade,self.age)\n",
    "s1=Student('IIT Madras',3,'Manoj',25,8.0,['NOP','DAV','ED5340','MW'])\n",
    "s2=Student('IIT Bombay',3,'Saikat',25,10.0,['analysis','python','functional','MW'])\n",
    "s3=Student('IIT Guahati',3,'Mohit',25,10.0,['AI','ML','ED5340','MW'])\n",
    "\n",
    "print(School.total_stu)\n",
    "s1.print_de()\n",
    "s2.print_de()\n",
    "s3.print_de()\n",
    "      "
   ]
  },
  {
   "cell_type": "code",
   "execution_count": null,
   "id": "3f574c80",
   "metadata": {},
   "outputs": [],
   "source": []
  }
 ],
 "metadata": {
  "kernelspec": {
   "display_name": "Python 3 (ipykernel)",
   "language": "python",
   "name": "python3"
  },
  "language_info": {
   "codemirror_mode": {
    "name": "ipython",
    "version": 3
   },
   "file_extension": ".py",
   "mimetype": "text/x-python",
   "name": "python",
   "nbconvert_exporter": "python",
   "pygments_lexer": "ipython3",
   "version": "3.9.13"
  }
 },
 "nbformat": 4,
 "nbformat_minor": 5
}
