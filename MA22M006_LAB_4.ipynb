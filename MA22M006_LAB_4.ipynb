{
 "cells": [
  {
   "cell_type": "markdown",
   "id": "6dd59d90",
   "metadata": {},
   "source": [
    "### Dictionary and functions\n",
    "### ANS_1\n",
    "## a"
   ]
  },
  {
   "cell_type": "code",
   "execution_count": 33,
   "id": "aaabc4be",
   "metadata": {},
   "outputs": [],
   "source": [
    "#I am defining a function which will take an list as an parameter\n",
    "# and gives us a dictionary containg each number in the list ad \n",
    "#keys and cooresponding occurence in the list as values\n",
    "\n",
    "def Int_freq(lst):\n",
    "    d={}\n",
    "    for num in set(lst):\n",
    "        d[num]=lst.count(num)    \n",
    "    return d"
   ]
  },
  {
   "cell_type": "code",
   "execution_count": 34,
   "id": "c325ef33",
   "metadata": {},
   "outputs": [
    {
     "data": {
      "text/plain": [
       "{34: 2, 35: 1, 4: 1, 12: 2, 45: 3, 3213: 1, 214: 1, 23: 1}"
      ]
     },
     "execution_count": 34,
     "metadata": {},
     "output_type": "execute_result"
    }
   ],
   "source": [
    "lst1=[12,23,34,45,45,3213,12,214,35,4,34,45]\n",
    "Int_freq(lst1)"
   ]
  },
  {
   "cell_type": "markdown",
   "id": "2e66cdd4",
   "metadata": {},
   "source": [
    "## b "
   ]
  },
  {
   "cell_type": "code",
   "execution_count": 35,
   "id": "6b181287",
   "metadata": {},
   "outputs": [
    {
     "name": "stdout",
     "output_type": "stream",
     "text": [
      "3213 1\n"
     ]
    }
   ],
   "source": [
    "# we are printing the maximum integer and its frequency by using (a)\n",
    "d=Int_freq([12,23,34,45,45,3213,12,214,35,4,34,45])\n",
    "print(max(d),d[max(d)])"
   ]
  },
  {
   "cell_type": "markdown",
   "id": "4597850b",
   "metadata": {},
   "source": [
    "### (c)"
   ]
  },
  {
   "cell_type": "code",
   "execution_count": 36,
   "id": "5df0ed6a",
   "metadata": {},
   "outputs": [],
   "source": [
    "#Removing the duplicates from the list and printing the new list\n",
    "#without changing the order\n",
    "def rem_dup(lst):\n",
    "    lst1=[]\n",
    "    for num in lst:\n",
    "        if not(lst1.count(num)):\n",
    "            lst1.append(num)\n",
    "    return lst1      "
   ]
  },
  {
   "cell_type": "code",
   "execution_count": 52,
   "id": "f139471e",
   "metadata": {},
   "outputs": [
    {
     "data": {
      "text/plain": [
       "[12, 23, 34, 45, 3213, 214, 35, 4]"
      ]
     },
     "execution_count": 52,
     "metadata": {},
     "output_type": "execute_result"
    }
   ],
   "source": [
    "rem_dup(lst1)"
   ]
  },
  {
   "cell_type": "markdown",
   "id": "df587acf",
   "metadata": {},
   "source": [
    "## (d)"
   ]
  },
  {
   "cell_type": "code",
   "execution_count": 37,
   "id": "26dcc456",
   "metadata": {},
   "outputs": [
    {
     "name": "stdout",
     "output_type": "stream",
     "text": [
      "[34, 35, 4, 12, 45, 3213, 214, 23]\n"
     ]
    }
   ],
   "source": [
    "print(list(set(lst1)))"
   ]
  },
  {
   "cell_type": "markdown",
   "id": "ad073b04",
   "metadata": {},
   "source": [
    "## (2)\n"
   ]
  },
  {
   "cell_type": "code",
   "execution_count": 117,
   "id": "7e8bc812",
   "metadata": {},
   "outputs": [],
   "source": [
    "#Store the employee IDs, names, salaries, and years of experience using \n",
    "#nested dictionaries (the key of the highest level dictionary can be the \n",
    "# employee ID). \n",
    "dic_dic={'MA22M006':{'Name':'Manoj','salary':2000,'YOE':0},\n",
    "         'MA22M007':{'Name':'Umair','salary':2200,'YOE':1},\n",
    "        'MA22M008':{'Name':'Mohit','salary':1000,'YOE':2},\n",
    "        'MA22M019':{'Name':'Sohit','salary':900,'YOE':3},\n",
    "        'MA22M025':{'Name':'Vidipt','salary':3000,'YOE':1},\n",
    "        'MA22M005':{'Name':'Kuldeep','salary':500,'YOE':3}}\n"
   ]
  },
  {
   "cell_type": "markdown",
   "id": "6cbe02e0",
   "metadata": {},
   "source": [
    "### (a)"
   ]
  },
  {
   "cell_type": "code",
   "execution_count": 118,
   "id": "f9818d3e",
   "metadata": {},
   "outputs": [
    {
     "data": {
      "text/plain": [
       "{'MA22M005': {'Name': 'Kuldeep', 'salary': 500, 'YOE': 3},\n",
       " 'MA22M019': {'Name': 'Sohit', 'salary': 900, 'YOE': 3},\n",
       " 'MA22M008': {'Name': 'Mohit', 'salary': 1000, 'YOE': 2},\n",
       " 'MA22M006': {'Name': 'Manoj', 'salary': 2000, 'YOE': 0},\n",
       " 'MA22M007': {'Name': 'Umair', 'salary': 2200, 'YOE': 1},\n",
       " 'MA22M025': {'Name': 'Vidipt', 'salary': 3000, 'YOE': 1}}"
      ]
     },
     "execution_count": 118,
     "metadata": {},
     "output_type": "execute_result"
    }
   ],
   "source": [
    "#a) Sort this dictionary using the salary value. \n",
    "\n",
    "salary_sort=dict(sorted(dic_dic.items(),key=lambda ky: ky[1]['salary']))\n",
    "salary_sort"
   ]
  },
  {
   "cell_type": "code",
   "execution_count": 119,
   "id": "7e5b785b",
   "metadata": {},
   "outputs": [
    {
     "data": {
      "text/plain": [
       "{'MA22M005': {'Name': 'Kuldeep', 'salary': 500, 'YOE': 3},\n",
       " 'MA22M019': {'Name': 'Sohit', 'salary': 900, 'YOE': 3},\n",
       " 'MA22M008': {'Name': 'Mohit', 'salary': 1000, 'YOE': 2},\n",
       " 'MA22M006': {'Name': 'Manoj', 'salary': 2000, 'YOE': 0},\n",
       " 'MA22M007': {'Name': 'Umair', 'salary': 2200, 'YOE': 1},\n",
       " 'MA22M025': {'Name': 'Vidipt', 'salary': 3000, 'YOE': 1}}"
      ]
     },
     "execution_count": 119,
     "metadata": {},
     "output_type": "execute_result"
    }
   ],
   "source": [
    "# Here I am definig the function to sort the above dictionary by salary values\n",
    "def Sort_Sal(dic):\n",
    "    d=dict(sorted(dic_dic.items(),key=lambda ky:ky[1]['salary']))\n",
    "    return(d)\n",
    "Sort_Sal(dic_dic)"
   ]
  },
  {
   "cell_type": "markdown",
   "id": "11aec304",
   "metadata": {},
   "source": [
    "### (b)"
   ]
  },
  {
   "cell_type": "code",
   "execution_count": 121,
   "id": "691a76b0",
   "metadata": {},
   "outputs": [
    {
     "data": {
      "text/plain": [
       "{'MA22M005': {'Name': 'Kuldeep', 'salary': 500, 'YOE': 3},\n",
       " 'MA22M019': {'Name': 'Sohit', 'salary': 900, 'YOE': 3},\n",
       " 'MA22M008': {'Name': 'Mohit', 'salary': 1000, 'YOE': 2},\n",
       " 'MA22M006': {'Name': 'Manoj', 'salary': 2000, 'YOE': 0},\n",
       " 'MA22M007': {'Name': 'Umair', 'salary': 2200, 'YOE': 1},\n",
       " 'MA22M001': {'Name': 'Ankit', 'salary': 2300, 'YOE': 2},\n",
       " 'MA22M025': {'Name': 'Vidipt', 'salary': 3000, 'YOE': 1}}"
      ]
     },
     "execution_count": 121,
     "metadata": {},
     "output_type": "execute_result"
    }
   ],
   "source": [
    "#b) Add a new employee to the dictionary in the correct position \n",
    "#(sorted as mentioned above).\n",
    "new_emp={'MA22M001':{'Name':'Ankit','salary':2300,'YOE':2}}\n",
    "dic_dic1=dic_dic.update(new_emp.items())\n",
    "Sort_Sal(dic_dic1)"
   ]
  },
  {
   "cell_type": "code",
   "execution_count": 133,
   "id": "b852643d",
   "metadata": {},
   "outputs": [
    {
     "name": "stdout",
     "output_type": "stream",
     "text": [
      "Help on class set in module builtins:\n",
      "\n",
      "class set(object)\n",
      " |  set() -> new empty set object\n",
      " |  set(iterable) -> new set object\n",
      " |  \n",
      " |  Build an unordered collection of unique elements.\n",
      " |  \n",
      " |  Methods defined here:\n",
      " |  \n",
      " |  __and__(self, value, /)\n",
      " |      Return self&value.\n",
      " |  \n",
      " |  __contains__(...)\n",
      " |      x.__contains__(y) <==> y in x.\n",
      " |  \n",
      " |  __eq__(self, value, /)\n",
      " |      Return self==value.\n",
      " |  \n",
      " |  __ge__(self, value, /)\n",
      " |      Return self>=value.\n",
      " |  \n",
      " |  __getattribute__(self, name, /)\n",
      " |      Return getattr(self, name).\n",
      " |  \n",
      " |  __gt__(self, value, /)\n",
      " |      Return self>value.\n",
      " |  \n",
      " |  __iand__(self, value, /)\n",
      " |      Return self&=value.\n",
      " |  \n",
      " |  __init__(self, /, *args, **kwargs)\n",
      " |      Initialize self.  See help(type(self)) for accurate signature.\n",
      " |  \n",
      " |  __ior__(self, value, /)\n",
      " |      Return self|=value.\n",
      " |  \n",
      " |  __isub__(self, value, /)\n",
      " |      Return self-=value.\n",
      " |  \n",
      " |  __iter__(self, /)\n",
      " |      Implement iter(self).\n",
      " |  \n",
      " |  __ixor__(self, value, /)\n",
      " |      Return self^=value.\n",
      " |  \n",
      " |  __le__(self, value, /)\n",
      " |      Return self<=value.\n",
      " |  \n",
      " |  __len__(self, /)\n",
      " |      Return len(self).\n",
      " |  \n",
      " |  __lt__(self, value, /)\n",
      " |      Return self<value.\n",
      " |  \n",
      " |  __ne__(self, value, /)\n",
      " |      Return self!=value.\n",
      " |  \n",
      " |  __or__(self, value, /)\n",
      " |      Return self|value.\n",
      " |  \n",
      " |  __rand__(self, value, /)\n",
      " |      Return value&self.\n",
      " |  \n",
      " |  __reduce__(...)\n",
      " |      Return state information for pickling.\n",
      " |  \n",
      " |  __repr__(self, /)\n",
      " |      Return repr(self).\n",
      " |  \n",
      " |  __ror__(self, value, /)\n",
      " |      Return value|self.\n",
      " |  \n",
      " |  __rsub__(self, value, /)\n",
      " |      Return value-self.\n",
      " |  \n",
      " |  __rxor__(self, value, /)\n",
      " |      Return value^self.\n",
      " |  \n",
      " |  __sizeof__(...)\n",
      " |      S.__sizeof__() -> size of S in memory, in bytes\n",
      " |  \n",
      " |  __sub__(self, value, /)\n",
      " |      Return self-value.\n",
      " |  \n",
      " |  __xor__(self, value, /)\n",
      " |      Return self^value.\n",
      " |  \n",
      " |  add(...)\n",
      " |      Add an element to a set.\n",
      " |      \n",
      " |      This has no effect if the element is already present.\n",
      " |  \n",
      " |  clear(...)\n",
      " |      Remove all elements from this set.\n",
      " |  \n",
      " |  copy(...)\n",
      " |      Return a shallow copy of a set.\n",
      " |  \n",
      " |  difference(...)\n",
      " |      Return the difference of two or more sets as a new set.\n",
      " |      \n",
      " |      (i.e. all elements that are in this set but not the others.)\n",
      " |  \n",
      " |  difference_update(...)\n",
      " |      Remove all elements of another set from this set.\n",
      " |  \n",
      " |  discard(...)\n",
      " |      Remove an element from a set if it is a member.\n",
      " |      \n",
      " |      If the element is not a member, do nothing.\n",
      " |  \n",
      " |  intersection(...)\n",
      " |      Return the intersection of two sets as a new set.\n",
      " |      \n",
      " |      (i.e. all elements that are in both sets.)\n",
      " |  \n",
      " |  intersection_update(...)\n",
      " |      Update a set with the intersection of itself and another.\n",
      " |  \n",
      " |  isdisjoint(...)\n",
      " |      Return True if two sets have a null intersection.\n",
      " |  \n",
      " |  issubset(...)\n",
      " |      Report whether another set contains this set.\n",
      " |  \n",
      " |  issuperset(...)\n",
      " |      Report whether this set contains another set.\n",
      " |  \n",
      " |  pop(...)\n",
      " |      Remove and return an arbitrary set element.\n",
      " |      Raises KeyError if the set is empty.\n",
      " |  \n",
      " |  remove(...)\n",
      " |      Remove an element from a set; it must be a member.\n",
      " |      \n",
      " |      If the element is not a member, raise a KeyError.\n",
      " |  \n",
      " |  symmetric_difference(...)\n",
      " |      Return the symmetric difference of two sets as a new set.\n",
      " |      \n",
      " |      (i.e. all elements that are in exactly one of the sets.)\n",
      " |  \n",
      " |  symmetric_difference_update(...)\n",
      " |      Update a set with the symmetric difference of itself and another.\n",
      " |  \n",
      " |  union(...)\n",
      " |      Return the union of sets as a new set.\n",
      " |      \n",
      " |      (i.e. all elements that are in either set.)\n",
      " |  \n",
      " |  update(...)\n",
      " |      Update a set with the union of itself and others.\n",
      " |  \n",
      " |  ----------------------------------------------------------------------\n",
      " |  Class methods defined here:\n",
      " |  \n",
      " |  __class_getitem__(...) from builtins.type\n",
      " |      See PEP 585\n",
      " |  \n",
      " |  ----------------------------------------------------------------------\n",
      " |  Static methods defined here:\n",
      " |  \n",
      " |  __new__(*args, **kwargs) from builtins.type\n",
      " |      Create and return a new object.  See help(type) for accurate signature.\n",
      " |  \n",
      " |  ----------------------------------------------------------------------\n",
      " |  Data and other attributes defined here:\n",
      " |  \n",
      " |  __hash__ = None\n",
      "\n"
     ]
    }
   ],
   "source": [
    "help(set)"
   ]
  },
  {
   "cell_type": "markdown",
   "id": "e51a56c2",
   "metadata": {},
   "source": [
    "## 3"
   ]
  },
  {
   "cell_type": "code",
   "execution_count": 148,
   "id": "eef31477",
   "metadata": {},
   "outputs": [],
   "source": [
    "def com_dic(dic1,dic2):  # Combining two dictionaries\n",
    "    C={}\n",
    "    lst1=set(dic1.keys())\n",
    "    lst2=set(dic2.keys())\n",
    "    lst3=lst1.union(lst2)\n",
    "    for a in sorted(lst3):\n",
    "        if a in lst1.intersection(lst2) :\n",
    "            C[a]=dic1[a]+dic2[a]\n",
    "        elif a in lst1:\n",
    "            C[a]=dic1[a]\n",
    "        else:\n",
    "            C[a]=dic2[a]\n",
    "    return C\n",
    "    "
   ]
  },
  {
   "cell_type": "code",
   "execution_count": 149,
   "id": "bd0b755b",
   "metadata": {},
   "outputs": [
    {
     "data": {
      "text/plain": [
       "{'a': 3, 'b': 7, 'c': 19, 'd': 3}"
      ]
     },
     "execution_count": 149,
     "metadata": {},
     "output_type": "execute_result"
    }
   ],
   "source": [
    "A={'a':3,'b':5,'c':7}\n",
    "B={'b':2,'c':12,'d':3}\n",
    "com_dic(A,B)"
   ]
  },
  {
   "cell_type": "markdown",
   "id": "ae699ee2",
   "metadata": {},
   "source": [
    "## (4)"
   ]
  },
  {
   "cell_type": "code",
   "execution_count": 180,
   "id": "318f39e3",
   "metadata": {},
   "outputs": [
    {
     "data": {
      "text/plain": [
       "[{1: 2}, {2: 3}, {3: 4}, {4: 5}, {5: 6}]"
      ]
     },
     "execution_count": 180,
     "metadata": {},
     "output_type": "execute_result"
    }
   ],
   "source": [
    "# making dictionary out of list os list\n",
    "def lis_to_dic(lst_lst):\n",
    "    d=[]\n",
    "    for i in lst_lst:\n",
    "        d1={}\n",
    "        d1[i[0]]=i[1]\n",
    "        d.append(d1)\n",
    "    return d\n",
    "lst_lst1=[[1,2],[2,3],[3,4],[4,5],[5,6]]\n",
    "lis_to_dic(lst_lst1)"
   ]
  },
  {
   "cell_type": "markdown",
   "id": "9769ef65",
   "metadata": {},
   "source": [
    "## (5)"
   ]
  },
  {
   "cell_type": "code",
   "execution_count": 1,
   "id": "37e94df0",
   "metadata": {},
   "outputs": [
    {
     "name": "stdout",
     "output_type": "stream",
     "text": [
      "True\n",
      "False\n"
     ]
    }
   ],
   "source": [
    "# writing a function to check whether all the members in the list are\n",
    "#anagrams of each other\n",
    "def Anagrams(lst):\n",
    "    for i in range(len(lst)-1):\n",
    "        if sorted(lst[i])!=sorted(lst[i+1]):\n",
    "            return False\n",
    "        break\n",
    "    return True\n",
    "lst11=[\"triangle\", \"integral\", \"altering\"]    \n",
    "lst12= ['world','hello','goodbye']\n",
    "print(Anagrams(lst11))\n",
    "print(Anagrams(lst12))        "
   ]
  },
  {
   "cell_type": "markdown",
   "id": "6ee0bb3f",
   "metadata": {},
   "source": [
    "## (6)"
   ]
  },
  {
   "cell_type": "code",
   "execution_count": 175,
   "id": "27a28a3f",
   "metadata": {},
   "outputs": [
    {
     "name": "stdout",
     "output_type": "stream",
     "text": [
      "121\n"
     ]
    }
   ],
   "source": [
    "# Function for calculating the square of a given number\n",
    "def sq(n):\n",
    "    return n**2\n",
    "print(sq(11))\n",
    "def map_sq(lst):\n",
    "    d={lst:map(sq,lst)}\n",
    "    return d\n",
    "        \n"
   ]
  },
  {
   "cell_type": "code",
   "execution_count": 176,
   "id": "cd7a57fc",
   "metadata": {},
   "outputs": [
    {
     "ename": "TypeError",
     "evalue": "unhashable type: 'list'",
     "output_type": "error",
     "traceback": [
      "\u001b[1;31m---------------------------------------------------------------------------\u001b[0m",
      "\u001b[1;31mTypeError\u001b[0m                                 Traceback (most recent call last)",
      "\u001b[1;32m~\\AppData\\Local\\Temp\\ipykernel_10952\\466366252.py\u001b[0m in \u001b[0;36m<module>\u001b[1;34m\u001b[0m\n\u001b[0;32m      1\u001b[0m \u001b[0mlst111\u001b[0m\u001b[1;33m=\u001b[0m\u001b[1;33m[\u001b[0m\u001b[1;36m1\u001b[0m\u001b[1;33m,\u001b[0m\u001b[1;36m2\u001b[0m\u001b[1;33m,\u001b[0m\u001b[1;36m3\u001b[0m\u001b[1;33m,\u001b[0m\u001b[1;36m34\u001b[0m\u001b[1;33m]\u001b[0m\u001b[1;33m\u001b[0m\u001b[1;33m\u001b[0m\u001b[0m\n\u001b[1;32m----> 2\u001b[1;33m \u001b[0mmap_sq\u001b[0m\u001b[1;33m(\u001b[0m\u001b[0mlst111\u001b[0m\u001b[1;33m)\u001b[0m\u001b[1;33m\u001b[0m\u001b[1;33m\u001b[0m\u001b[0m\n\u001b[0m",
      "\u001b[1;32m~\\AppData\\Local\\Temp\\ipykernel_10952\\1473708322.py\u001b[0m in \u001b[0;36mmap_sq\u001b[1;34m(lst)\u001b[0m\n\u001b[0;32m      4\u001b[0m \u001b[0mprint\u001b[0m\u001b[1;33m(\u001b[0m\u001b[0msq\u001b[0m\u001b[1;33m(\u001b[0m\u001b[1;36m11\u001b[0m\u001b[1;33m)\u001b[0m\u001b[1;33m)\u001b[0m\u001b[1;33m\u001b[0m\u001b[1;33m\u001b[0m\u001b[0m\n\u001b[0;32m      5\u001b[0m \u001b[1;32mdef\u001b[0m \u001b[0mmap_sq\u001b[0m\u001b[1;33m(\u001b[0m\u001b[0mlst\u001b[0m\u001b[1;33m)\u001b[0m\u001b[1;33m:\u001b[0m\u001b[1;33m\u001b[0m\u001b[1;33m\u001b[0m\u001b[0m\n\u001b[1;32m----> 6\u001b[1;33m     \u001b[0md\u001b[0m\u001b[1;33m=\u001b[0m\u001b[1;33m{\u001b[0m\u001b[0mlst\u001b[0m\u001b[1;33m:\u001b[0m\u001b[0mmap\u001b[0m\u001b[1;33m(\u001b[0m\u001b[0msq\u001b[0m\u001b[1;33m,\u001b[0m\u001b[0mlst\u001b[0m\u001b[1;33m)\u001b[0m\u001b[1;33m}\u001b[0m\u001b[1;33m\u001b[0m\u001b[1;33m\u001b[0m\u001b[0m\n\u001b[0m\u001b[0;32m      7\u001b[0m     \u001b[1;32mreturn\u001b[0m \u001b[0md\u001b[0m\u001b[1;33m\u001b[0m\u001b[1;33m\u001b[0m\u001b[0m\n\u001b[0;32m      8\u001b[0m \u001b[1;33m\u001b[0m\u001b[0m\n",
      "\u001b[1;31mTypeError\u001b[0m: unhashable type: 'list'"
     ]
    }
   ],
   "source": [
    "lst111=[1,2,3,34]\n",
    "map_sq(lst111)"
   ]
  },
  {
   "cell_type": "markdown",
   "id": "fa98bc54",
   "metadata": {},
   "source": [
    "## (7)"
   ]
  },
  {
   "cell_type": "code",
   "execution_count": 179,
   "id": "7c57182c",
   "metadata": {},
   "outputs": [
    {
     "name": "stdout",
     "output_type": "stream",
     "text": [
      "4\n",
      "3\n",
      "2\n",
      "1\n",
      "1 "
     ]
    }
   ],
   "source": [
    "def Pascal(n):\n",
    "    if n==0:\n",
    "        print(1,end=' ')\n",
    "    else:\n",
    "        Pascal(n-1)\n",
    "        for i in range(n-1):\n",
    "            print\n",
    "        \n",
    "Pascal(4)"
   ]
  },
  {
   "cell_type": "markdown",
   "id": "ba63f015",
   "metadata": {},
   "source": [
    "### (8)"
   ]
  },
  {
   "cell_type": "code",
   "execution_count": 6,
   "id": "4be0a332",
   "metadata": {},
   "outputs": [
    {
     "name": "stdout",
     "output_type": "stream",
     "text": [
      "Enter an integre: 12\n",
      "144\n"
     ]
    }
   ],
   "source": [
    "# Fibonacci numbers (inclusively),\n",
    "n=int(input('Enter an integre: '))\n",
    "def F(n):\n",
    "    if n==0:\n",
    "        return 0\n",
    "    elif n==1:\n",
    "        return 1\n",
    "    else:\n",
    "        return F(n-1)+F(n-2)\n",
    "print(F(n))"
   ]
  },
  {
   "cell_type": "code",
   "execution_count": 14,
   "id": "adaa3c72",
   "metadata": {},
   "outputs": [
    {
     "name": "stdout",
     "output_type": "stream",
     "text": [
      "False\n",
      "True\n",
      "False\n"
     ]
    }
   ],
   "source": [
    "# checking if the number n is present in the Fibonacci series.\n",
    "def Check(n):\n",
    "    for i in range(n):\n",
    "        if F(i)==n:\n",
    "            return True\n",
    "            break\n",
    "    return False\n",
    "print(Check(7))\n",
    "print(Check(8))\n",
    "print(Check(9))"
   ]
  },
  {
   "cell_type": "markdown",
   "id": "a7ed2806",
   "metadata": {},
   "source": [
    "## (9)\n",
    "### (a)"
   ]
  },
  {
   "cell_type": "code",
   "execution_count": 21,
   "id": "7c3f8ebd",
   "metadata": {},
   "outputs": [
    {
     "data": {
      "text/plain": [
       "[76, 3424, 132, 324]"
      ]
     },
     "execution_count": 21,
     "metadata": {},
     "output_type": "execute_result"
    }
   ],
   "source": [
    "#To filter the even numbers from a list of integers using lambda.\n",
    "def even_lst(lst):\n",
    "    ev=lambda a:a%2\n",
    "    l=[a for a in lst if ev(a)==0]\n",
    "    return l\n",
    "lst13=[23,53,45,76,87,79,987,3424,123,132,324]\n",
    "even_lst(lst13)   "
   ]
  },
  {
   "cell_type": "markdown",
   "id": "ab97b7e9",
   "metadata": {},
   "source": [
    "### (b)"
   ]
  },
  {
   "cell_type": "code",
   "execution_count": null,
   "id": "3bfea1f9",
   "metadata": {},
   "outputs": [],
   "source": [
    "#To count even and odd numbers in a given list of integers using lambda.\n"
   ]
  },
  {
   "cell_type": "markdown",
   "id": "2085a48f",
   "metadata": {},
   "source": [
    "## (10)"
   ]
  },
  {
   "cell_type": "code",
   "execution_count": 27,
   "id": "21808181",
   "metadata": {},
   "outputs": [
    {
     "name": "stdout",
     "output_type": "stream",
     "text": [
      "Enter 0<=N<=100 and 0<=M<=9: 13 1\n"
     ]
    },
    {
     "data": {
      "text/plain": [
       "6"
      ]
     },
     "execution_count": 27,
     "metadata": {},
     "output_type": "execute_result"
    }
   ],
   "source": [
    "def Query_M(N,M):\n",
    "    if N==M:\n",
    "        return 1\n",
    "    else:\n",
    "        K=str(N)\n",
    "        return Query_M(N-1,M)+K.count(str(M))\n",
    "N,M=input('Enter 0<=N<=100 and 0<=M<=9: ').split()\n",
    "N=int(N)\n",
    "M=int(M)\n",
    "Query_M(N,M)"
   ]
  },
  {
   "cell_type": "markdown",
   "id": "48af3f24",
   "metadata": {},
   "source": [
    "## (11)"
   ]
  },
  {
   "cell_type": "code",
   "execution_count": null,
   "id": "725bc3a2",
   "metadata": {},
   "outputs": [],
   "source": [
    "#Illustrate the usage of positional and keyword arguments using\n",
    "#suitable examples.\n"
   ]
  },
  {
   "cell_type": "markdown",
   "id": "e4e04473",
   "metadata": {},
   "source": [
    "## (12)"
   ]
  },
  {
   "cell_type": "code",
   "execution_count": 38,
   "id": "be9461cc",
   "metadata": {},
   "outputs": [
    {
     "data": {
      "text/plain": [
       "4"
      ]
     },
     "execution_count": 38,
     "metadata": {},
     "output_type": "execute_result"
    }
   ],
   "source": [
    "#Write a function to find the minimum of n numbers using variable\n",
    "#length positional arguments.\n",
    "def min_n(*arg):\n",
    "    m=100000 # any bigger value\n",
    "    for i in arg:\n",
    "        if \n",
    "    return m\n",
    "min_n(12,32,4,5,67)\n",
    "    \n",
    "    "
   ]
  },
  {
   "cell_type": "markdown",
   "id": "08bf82c7",
   "metadata": {},
   "source": [
    "## (13)"
   ]
  },
  {
   "cell_type": "code",
   "execution_count": 2,
   "id": "6e87a3d6",
   "metadata": {},
   "outputs": [
    {
     "data": {
      "text/plain": [
       "' manoj Sohit Umair'"
      ]
     },
     "execution_count": 2,
     "metadata": {},
     "output_type": "execute_result"
    }
   ],
   "source": [
    "#Write a function to concatenate n strings using \n",
    "#variable length keyword arguments.\n",
    "def Con_str(**kwarg):\n",
    "    st1=\"\"\n",
    "    for n,m in kwarg.items():\n",
    "        st1=st1+' '+m\n",
    "    return st1\n",
    "Con_str(i='manoj',j='Sohit',k='Umair')"
   ]
  },
  {
   "cell_type": "markdown",
   "id": "fa7e123f",
   "metadata": {},
   "source": [
    "## (14) "
   ]
  },
  {
   "cell_type": "code",
   "execution_count": 53,
   "id": "d62558fc",
   "metadata": {},
   "outputs": [
    {
     "name": "stdout",
     "output_type": "stream",
     "text": [
      "[12, 34, 546, 132]\n"
     ]
    }
   ],
   "source": [
    "# Filter Function take an function and iterable and returns the iterables where condition in function is true. \n",
    "\n",
    "ev=lambda a:a%2-1\n",
    "a=filter(ev,[12,34,45,546,132])\n",
    "print(list(a))"
   ]
  },
  {
   "cell_type": "code",
   "execution_count": 1,
   "id": "daec96cf",
   "metadata": {},
   "outputs": [
    {
     "ename": "TypeError",
     "evalue": "can only concatenate list (not \"int\") to list",
     "output_type": "error",
     "traceback": [
      "\u001b[1;31m---------------------------------------------------------------------------\u001b[0m",
      "\u001b[1;31mTypeError\u001b[0m                                 Traceback (most recent call last)",
      "\u001b[1;32m~\\AppData\\Local\\Temp\\ipykernel_14832\\2646156144.py\u001b[0m in \u001b[0;36m<module>\u001b[1;34m\u001b[0m\n\u001b[0;32m      3\u001b[0m \u001b[1;32mfrom\u001b[0m \u001b[0mfunctools\u001b[0m \u001b[1;32mimport\u001b[0m \u001b[0mreduce\u001b[0m  \u001b[1;31m#library where reduce function is present\u001b[0m\u001b[1;33m\u001b[0m\u001b[1;33m\u001b[0m\u001b[0m\n\u001b[0;32m      4\u001b[0m \u001b[0msum_n\u001b[0m\u001b[1;33m=\u001b[0m\u001b[1;32mlambda\u001b[0m \u001b[0ma\u001b[0m\u001b[1;33m,\u001b[0m\u001b[0mb\u001b[0m\u001b[1;33m:\u001b[0m\u001b[0ma\u001b[0m\u001b[1;33m+\u001b[0m\u001b[0mb\u001b[0m\u001b[1;33m\u001b[0m\u001b[1;33m\u001b[0m\u001b[0m\n\u001b[1;32m----> 5\u001b[1;33m \u001b[0ma\u001b[0m\u001b[1;33m=\u001b[0m\u001b[0mreduce\u001b[0m\u001b[1;33m(\u001b[0m\u001b[0msum_n\u001b[0m\u001b[1;33m,\u001b[0m\u001b[1;33m[\u001b[0m\u001b[1;36m12\u001b[0m\u001b[1;33m,\u001b[0m\u001b[1;36m234\u001b[0m\u001b[1;33m,\u001b[0m\u001b[1;36m45\u001b[0m\u001b[1;33m,\u001b[0m\u001b[1;36m7\u001b[0m\u001b[1;33m,\u001b[0m\u001b[1;36m87\u001b[0m\u001b[1;33m]\u001b[0m\u001b[1;33m,\u001b[0m\u001b[1;33m[\u001b[0m\u001b[1;36m1\u001b[0m\u001b[1;33m,\u001b[0m\u001b[1;36m2\u001b[0m\u001b[1;33m,\u001b[0m\u001b[1;36m2\u001b[0m\u001b[1;33m,\u001b[0m\u001b[1;36m3\u001b[0m\u001b[1;33m,\u001b[0m\u001b[1;36m3\u001b[0m\u001b[1;33m]\u001b[0m\u001b[1;33m)\u001b[0m\u001b[1;33m\u001b[0m\u001b[1;33m\u001b[0m\u001b[0m\n\u001b[0m\u001b[0;32m      6\u001b[0m \u001b[0mprint\u001b[0m\u001b[1;33m(\u001b[0m\u001b[0ma\u001b[0m\u001b[1;33m)\u001b[0m\u001b[1;33m\u001b[0m\u001b[1;33m\u001b[0m\u001b[0m\n",
      "\u001b[1;32m~\\AppData\\Local\\Temp\\ipykernel_14832\\2646156144.py\u001b[0m in \u001b[0;36m<lambda>\u001b[1;34m(a, b)\u001b[0m\n\u001b[0;32m      2\u001b[0m \u001b[1;31m# iterable data type, returning a single value.\u001b[0m\u001b[1;33m\u001b[0m\u001b[1;33m\u001b[0m\u001b[0m\n\u001b[0;32m      3\u001b[0m \u001b[1;32mfrom\u001b[0m \u001b[0mfunctools\u001b[0m \u001b[1;32mimport\u001b[0m \u001b[0mreduce\u001b[0m  \u001b[1;31m#library where reduce function is present\u001b[0m\u001b[1;33m\u001b[0m\u001b[1;33m\u001b[0m\u001b[0m\n\u001b[1;32m----> 4\u001b[1;33m \u001b[0msum_n\u001b[0m\u001b[1;33m=\u001b[0m\u001b[1;32mlambda\u001b[0m \u001b[0ma\u001b[0m\u001b[1;33m,\u001b[0m\u001b[0mb\u001b[0m\u001b[1;33m:\u001b[0m\u001b[0ma\u001b[0m\u001b[1;33m+\u001b[0m\u001b[0mb\u001b[0m\u001b[1;33m\u001b[0m\u001b[1;33m\u001b[0m\u001b[0m\n\u001b[0m\u001b[0;32m      5\u001b[0m \u001b[0ma\u001b[0m\u001b[1;33m=\u001b[0m\u001b[0mreduce\u001b[0m\u001b[1;33m(\u001b[0m\u001b[0msum_n\u001b[0m\u001b[1;33m,\u001b[0m\u001b[1;33m[\u001b[0m\u001b[1;36m12\u001b[0m\u001b[1;33m,\u001b[0m\u001b[1;36m234\u001b[0m\u001b[1;33m,\u001b[0m\u001b[1;36m45\u001b[0m\u001b[1;33m,\u001b[0m\u001b[1;36m7\u001b[0m\u001b[1;33m,\u001b[0m\u001b[1;36m87\u001b[0m\u001b[1;33m]\u001b[0m\u001b[1;33m,\u001b[0m\u001b[1;33m[\u001b[0m\u001b[1;36m1\u001b[0m\u001b[1;33m,\u001b[0m\u001b[1;36m2\u001b[0m\u001b[1;33m,\u001b[0m\u001b[1;36m2\u001b[0m\u001b[1;33m,\u001b[0m\u001b[1;36m3\u001b[0m\u001b[1;33m,\u001b[0m\u001b[1;36m3\u001b[0m\u001b[1;33m]\u001b[0m\u001b[1;33m)\u001b[0m\u001b[1;33m\u001b[0m\u001b[1;33m\u001b[0m\u001b[0m\n\u001b[0;32m      6\u001b[0m \u001b[0mprint\u001b[0m\u001b[1;33m(\u001b[0m\u001b[0ma\u001b[0m\u001b[1;33m)\u001b[0m\u001b[1;33m\u001b[0m\u001b[1;33m\u001b[0m\u001b[0m\n",
      "\u001b[1;31mTypeError\u001b[0m: can only concatenate list (not \"int\") to list"
     ]
    }
   ],
   "source": [
    "#In Python, the reduce() function iterates through each item in a list or other\n",
    "# iterable data type, returning a single value. \n",
    "from functools import reduce  #library where reduce function is present\n",
    "sum_n=lambda a,b:a+b\n",
    "a=reduce(sum_n,[12,234,45,7,87],[1,2,2,3,3])\n",
    "print(a)"
   ]
  },
  {
   "cell_type": "code",
   "execution_count": null,
   "id": "24c57cec",
   "metadata": {},
   "outputs": [],
   "source": []
  }
 ],
 "metadata": {
  "kernelspec": {
   "display_name": "Python 3 (ipykernel)",
   "language": "python",
   "name": "python3"
  },
  "language_info": {
   "codemirror_mode": {
    "name": "ipython",
    "version": 3
   },
   "file_extension": ".py",
   "mimetype": "text/x-python",
   "name": "python",
   "nbconvert_exporter": "python",
   "pygments_lexer": "ipython3",
   "version": "3.9.13"
  }
 },
 "nbformat": 4,
 "nbformat_minor": 5
}
