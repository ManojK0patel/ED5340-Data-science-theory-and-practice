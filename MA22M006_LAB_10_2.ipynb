{
 "cells": [
  {
   "cell_type": "markdown",
   "id": "5fbf255b",
   "metadata": {},
   "source": [
    "1. Derive the gradient expression for logistic regression with regularization. (Upload the photo)\n",
    "\n",
    "2. Perform  polynomial regression of degree 3 on the given train dataset. Predict the mean square error for the test data set with the obtained model (use constant learning rate) also print the final weights.\n",
    "\n",
    "   a)Without regularization\n",
    "\n",
    "   b)With regularization"
   ]
  },
  {
   "cell_type": "code",
   "execution_count": 1,
   "id": "57e668f2",
   "metadata": {},
   "outputs": [],
   "source": [
    "import numpy as np\n",
    "import pandas as pd\n",
    "import matplotlib.pyplot as plt"
   ]
  },
  {
   "cell_type": "code",
   "execution_count": 2,
   "id": "58fb7e99",
   "metadata": {},
   "outputs": [],
   "source": [
    "train_data=pd.read_csv(r'C:\\\\Users\\\\MANOJ PATEL\\\\Downloads\\\\Train_dataset.csv')"
   ]
  },
  {
   "cell_type": "code",
   "execution_count": 3,
   "id": "4e9edc78",
   "metadata": {},
   "outputs": [
    {
     "data": {
      "text/html": [
       "<div>\n",
       "<style scoped>\n",
       "    .dataframe tbody tr th:only-of-type {\n",
       "        vertical-align: middle;\n",
       "    }\n",
       "\n",
       "    .dataframe tbody tr th {\n",
       "        vertical-align: top;\n",
       "    }\n",
       "\n",
       "    .dataframe thead th {\n",
       "        text-align: right;\n",
       "    }\n",
       "</style>\n",
       "<table border=\"1\" class=\"dataframe\">\n",
       "  <thead>\n",
       "    <tr style=\"text-align: right;\">\n",
       "      <th></th>\n",
       "      <th>x</th>\n",
       "      <th>y</th>\n",
       "    </tr>\n",
       "  </thead>\n",
       "  <tbody>\n",
       "    <tr>\n",
       "      <th>0</th>\n",
       "      <td>-10.000000</td>\n",
       "      <td>-1766.000000</td>\n",
       "    </tr>\n",
       "    <tr>\n",
       "      <th>1</th>\n",
       "      <td>-9.899497</td>\n",
       "      <td>-1710.603914</td>\n",
       "    </tr>\n",
       "    <tr>\n",
       "      <th>2</th>\n",
       "      <td>-9.798995</td>\n",
       "      <td>-1656.367334</td>\n",
       "    </tr>\n",
       "    <tr>\n",
       "      <th>3</th>\n",
       "      <td>-9.698492</td>\n",
       "      <td>-1603.278077</td>\n",
       "    </tr>\n",
       "    <tr>\n",
       "      <th>4</th>\n",
       "      <td>-9.597990</td>\n",
       "      <td>-1551.323963</td>\n",
       "    </tr>\n",
       "    <tr>\n",
       "      <th>...</th>\n",
       "      <td>...</td>\n",
       "      <td>...</td>\n",
       "    </tr>\n",
       "    <tr>\n",
       "      <th>195</th>\n",
       "      <td>9.597990</td>\n",
       "      <td>1927.809608</td>\n",
       "    </tr>\n",
       "    <tr>\n",
       "      <th>196</th>\n",
       "      <td>9.698492</td>\n",
       "      <td>1987.521102</td>\n",
       "    </tr>\n",
       "    <tr>\n",
       "      <th>197</th>\n",
       "      <td>9.798995</td>\n",
       "      <td>2048.448544</td>\n",
       "    </tr>\n",
       "    <tr>\n",
       "      <th>198</th>\n",
       "      <td>9.899497</td>\n",
       "      <td>2110.604116</td>\n",
       "    </tr>\n",
       "    <tr>\n",
       "      <th>199</th>\n",
       "      <td>10.000000</td>\n",
       "      <td>2174.000000</td>\n",
       "    </tr>\n",
       "  </tbody>\n",
       "</table>\n",
       "<p>200 rows × 2 columns</p>\n",
       "</div>"
      ],
      "text/plain": [
       "             x            y\n",
       "0   -10.000000 -1766.000000\n",
       "1    -9.899497 -1710.603914\n",
       "2    -9.798995 -1656.367334\n",
       "3    -9.698492 -1603.278077\n",
       "4    -9.597990 -1551.323963\n",
       "..         ...          ...\n",
       "195   9.597990  1927.809608\n",
       "196   9.698492  1987.521102\n",
       "197   9.798995  2048.448544\n",
       "198   9.899497  2110.604116\n",
       "199  10.000000  2174.000000\n",
       "\n",
       "[200 rows x 2 columns]"
      ]
     },
     "execution_count": 3,
     "metadata": {},
     "output_type": "execute_result"
    }
   ],
   "source": [
    "train_data"
   ]
  },
  {
   "cell_type": "code",
   "execution_count": 4,
   "id": "a907347a",
   "metadata": {},
   "outputs": [],
   "source": [
    "x=train_data['x']\n",
    "x_1=x/max(abs(x))\n",
    "y1=train_data['y']\n",
    "y=y1/max(abs(y1))\n",
    "x_2=x_1*x_1\n",
    "x_3=x_2*x_1"
   ]
  },
  {
   "cell_type": "code",
   "execution_count": 5,
   "id": "7d470560",
   "metadata": {},
   "outputs": [
    {
     "name": "stdout",
     "output_type": "stream",
     "text": [
      "1.0 -1.0\n",
      "1.0 1.0\n"
     ]
    }
   ],
   "source": [
    "print(max(x_1),min(x_1))\n",
    "print(max(y),max(abs(y)))"
   ]
  },
  {
   "cell_type": "code",
   "execution_count": 6,
   "id": "998fe630",
   "metadata": {},
   "outputs": [],
   "source": [
    "X_features=[[1 for i in range(len(y))],x_1,x_2,x_3]\n",
    "def J(w):    # Objective Function\n",
    "    s=0\n",
    "    for i in range(len(y)):\n",
    "        p=0\n",
    "        for j in range(len(w)):\n",
    "            p+=w[j]*X_features[j][i]\n",
    "        s+=(p-y[i])**2\n",
    "    return s/(2*len(y))\n",
    "def gradJ(w):\n",
    "    gr=[]\n",
    "    for j in range(len(w)):\n",
    "        s=0       \n",
    "        for i in range(len(y)):\n",
    "            p=0\n",
    "            for k in range(len(w)):\n",
    "                p+=w[k]*X_features[k][i]\n",
    "            s+=((p-y[i])*X_features[j][i])\n",
    "        gr.append(s/len(y))\n",
    "    return np.array(gr)"
   ]
  },
  {
   "cell_type": "code",
   "execution_count": 7,
   "id": "17106832",
   "metadata": {},
   "outputs": [],
   "source": [
    "#This is the function used in the last LAB Here alpha is fixed\n",
    "def SteepestDescent(f,gradf,initialGuess=np.array([0,1/2,1/3,1/2]),iterations=500,tolerance=10**-3,StepL=0.01):\n",
    "    k=0\n",
    "    w_0=initialGuess\n",
    "    while k<iterations and np.linalg.norm(gradf(w_0))>tolerance:\n",
    "        p=-gradf(w_0)\n",
    "        w_0=w_0+StepL*p\n",
    "        k=k+1\n",
    "    print('minimum value will be:',f(w_0),'at',w_0,'Number of iterations:',k)\n",
    "    return w_0,f(w_0)\n",
    " "
   ]
  },
  {
   "cell_type": "code",
   "execution_count": 8,
   "id": "5c138997",
   "metadata": {},
   "outputs": [
    {
     "name": "stdout",
     "output_type": "stream",
     "text": [
      "minimum value will be: 0.0038697548347107545 at [-0.05008086  0.31456902  0.23459283  0.44253631] Number of iterations: 500\n"
     ]
    }
   ],
   "source": [
    "w,value=SteepestDescent(J,gradJ)"
   ]
  },
  {
   "cell_type": "code",
   "execution_count": 9,
   "id": "1197268f",
   "metadata": {},
   "outputs": [],
   "source": [
    "x_1=train_data['x']\n",
    "y=train_data['y']\n",
    "x_2=x_1*x_1\n",
    "x_3=x_2*x_1"
   ]
  },
  {
   "cell_type": "code",
   "execution_count": 10,
   "id": "f2558e7e",
   "metadata": {},
   "outputs": [
    {
     "name": "stdout",
     "output_type": "stream",
     "text": [
      "SME will be  286394.7180094428\n"
     ]
    }
   ],
   "source": [
    "print(\"SME will be \",J(w))"
   ]
  },
  {
   "cell_type": "code",
   "execution_count": 11,
   "id": "cd0679c8",
   "metadata": {},
   "outputs": [
    {
     "data": {
      "text/plain": [
       "<matplotlib.collections.PathCollection at 0x1f893303be0>"
      ]
     },
     "execution_count": 11,
     "metadata": {},
     "output_type": "execute_result"
    },
    {
     "data": {
      "image/png": "[encoded data removed]",
      "text/plain": [
       "<Figure size 640x480 with 1 Axes>"
      ]
     },
     "metadata": {},
     "output_type": "display_data"
    }
   ],
   "source": [
    "plt.scatter(x_1,y)"
   ]
  },
  {
   "cell_type": "code",
   "execution_count": 17,
   "id": "22d9fe8a",
   "metadata": {},
   "outputs": [],
   "source": [
    "#defining the regression model \n",
    "def model1(x):\n",
    "    return (w[0]+w[1]*x+w[2]*x**2+w[3]*x**3)\n",
    "def model2(x):\n",
    "    return 1.767*x**3"
   ]
  },
  {
   "cell_type": "code",
   "execution_count": 18,
   "id": "5f77b844",
   "metadata": {},
   "outputs": [
    {
     "name": "stdout",
     "output_type": "stream",
     "text": [
      "         Actual    Predicted\n",
      "0  -1767.898729 -1767.000000\n",
      "1  -1496.271751 -1508.856370\n",
      "2  -1254.183644 -1277.164568\n",
      "3  -1040.888009 -1070.494766\n",
      "4   -849.077111  -887.417134\n",
      "5   -686.262692  -726.501846\n",
      "6   -545.224138  -586.319071\n",
      "7   -419.853904  -465.438982\n",
      "8   -321.444054  -362.431750\n",
      "9   -233.948414  -275.867547\n",
      "10  -164.786088  -204.316543\n",
      "11  -111.769920  -146.348910\n",
      "12   -68.532441  -100.534820\n",
      "13   -40.147304   -65.444444\n",
      "14   -13.688711   -39.647954\n",
      "15    -1.099846   -21.715521\n",
      "16     5.403204   -10.217317\n",
      "17     5.166884    -3.723512\n",
      "18     7.308543    -0.804279\n",
      "19     6.394550    -0.029788\n",
      "20     2.942306     0.029788\n",
      "21     3.416502     0.804279\n",
      "22     7.987157     3.723512\n",
      "23    14.781894    10.217317\n",
      "24    34.732564    21.715521\n",
      "25    55.418389    39.647954\n",
      "26    90.316976    65.444444\n",
      "27   134.487090   100.534820\n",
      "28   194.060926   146.348910\n",
      "29   268.850285   204.316543\n",
      "30   357.286137   275.867547\n",
      "31   467.019593   362.431750\n",
      "32   595.838508   465.438982\n",
      "33   744.009102   586.319071\n",
      "34   912.633868   726.501846\n",
      "35  1113.041472   887.417134\n",
      "36  1335.020061  1070.494766\n",
      "37  1584.605544  1277.164568\n",
      "38  1867.987470  1508.856370\n",
      "39  2174.563874  1767.000000\n"
     ]
    }
   ],
   "source": [
    "results=pd.DataFrame({ 'Actual':test_data['y'],'Predicted':model2(test_data['x'])})\n",
    "print(results)"
   ]
  },
  {
   "cell_type": "code",
   "execution_count": 13,
   "id": "6c877a20",
   "metadata": {},
   "outputs": [
    {
     "data": {
      "text/html": [
       "<div>\n",
       "<style scoped>\n",
       "    .dataframe tbody tr th:only-of-type {\n",
       "        vertical-align: middle;\n",
       "    }\n",
       "\n",
       "    .dataframe tbody tr th {\n",
       "        vertical-align: top;\n",
       "    }\n",
       "\n",
       "    .dataframe thead th {\n",
       "        text-align: right;\n",
       "    }\n",
       "</style>\n",
       "<table border=\"1\" class=\"dataframe\">\n",
       "  <thead>\n",
       "    <tr style=\"text-align: right;\">\n",
       "      <th></th>\n",
       "      <th>x</th>\n",
       "      <th>y</th>\n",
       "    </tr>\n",
       "  </thead>\n",
       "  <tbody>\n",
       "    <tr>\n",
       "      <th>0</th>\n",
       "      <td>-10.000000</td>\n",
       "      <td>-1767.898729</td>\n",
       "    </tr>\n",
       "    <tr>\n",
       "      <th>1</th>\n",
       "      <td>-9.487179</td>\n",
       "      <td>-1496.271751</td>\n",
       "    </tr>\n",
       "    <tr>\n",
       "      <th>2</th>\n",
       "      <td>-8.974359</td>\n",
       "      <td>-1254.183644</td>\n",
       "    </tr>\n",
       "    <tr>\n",
       "      <th>3</th>\n",
       "      <td>-8.461538</td>\n",
       "      <td>-1040.888009</td>\n",
       "    </tr>\n",
       "    <tr>\n",
       "      <th>4</th>\n",
       "      <td>-7.948718</td>\n",
       "      <td>-849.077111</td>\n",
       "    </tr>\n",
       "    <tr>\n",
       "      <th>5</th>\n",
       "      <td>-7.435897</td>\n",
       "      <td>-686.262692</td>\n",
       "    </tr>\n",
       "    <tr>\n",
       "      <th>6</th>\n",
       "      <td>-6.923077</td>\n",
       "      <td>-545.224138</td>\n",
       "    </tr>\n",
       "    <tr>\n",
       "      <th>7</th>\n",
       "      <td>-6.410256</td>\n",
       "      <td>-419.853904</td>\n",
       "    </tr>\n",
       "    <tr>\n",
       "      <th>8</th>\n",
       "      <td>-5.897436</td>\n",
       "      <td>-321.444054</td>\n",
       "    </tr>\n",
       "    <tr>\n",
       "      <th>9</th>\n",
       "      <td>-5.384615</td>\n",
       "      <td>-233.948414</td>\n",
       "    </tr>\n",
       "    <tr>\n",
       "      <th>10</th>\n",
       "      <td>-4.871795</td>\n",
       "      <td>-164.786088</td>\n",
       "    </tr>\n",
       "    <tr>\n",
       "      <th>11</th>\n",
       "      <td>-4.358974</td>\n",
       "      <td>-111.769920</td>\n",
       "    </tr>\n",
       "    <tr>\n",
       "      <th>12</th>\n",
       "      <td>-3.846154</td>\n",
       "      <td>-68.532441</td>\n",
       "    </tr>\n",
       "    <tr>\n",
       "      <th>13</th>\n",
       "      <td>-3.333333</td>\n",
       "      <td>-40.147304</td>\n",
       "    </tr>\n",
       "    <tr>\n",
       "      <th>14</th>\n",
       "      <td>-2.820513</td>\n",
       "      <td>-13.688711</td>\n",
       "    </tr>\n",
       "    <tr>\n",
       "      <th>15</th>\n",
       "      <td>-2.307692</td>\n",
       "      <td>-1.099846</td>\n",
       "    </tr>\n",
       "    <tr>\n",
       "      <th>16</th>\n",
       "      <td>-1.794872</td>\n",
       "      <td>5.403204</td>\n",
       "    </tr>\n",
       "    <tr>\n",
       "      <th>17</th>\n",
       "      <td>-1.282051</td>\n",
       "      <td>5.166884</td>\n",
       "    </tr>\n",
       "    <tr>\n",
       "      <th>18</th>\n",
       "      <td>-0.769231</td>\n",
       "      <td>7.308543</td>\n",
       "    </tr>\n",
       "    <tr>\n",
       "      <th>19</th>\n",
       "      <td>-0.256410</td>\n",
       "      <td>6.394550</td>\n",
       "    </tr>\n",
       "    <tr>\n",
       "      <th>20</th>\n",
       "      <td>0.256410</td>\n",
       "      <td>2.942306</td>\n",
       "    </tr>\n",
       "    <tr>\n",
       "      <th>21</th>\n",
       "      <td>0.769231</td>\n",
       "      <td>3.416502</td>\n",
       "    </tr>\n",
       "    <tr>\n",
       "      <th>22</th>\n",
       "      <td>1.282051</td>\n",
       "      <td>7.987157</td>\n",
       "    </tr>\n",
       "    <tr>\n",
       "      <th>23</th>\n",
       "      <td>1.794872</td>\n",
       "      <td>14.781894</td>\n",
       "    </tr>\n",
       "    <tr>\n",
       "      <th>24</th>\n",
       "      <td>2.307692</td>\n",
       "      <td>34.732564</td>\n",
       "    </tr>\n",
       "    <tr>\n",
       "      <th>25</th>\n",
       "      <td>2.820513</td>\n",
       "      <td>55.418389</td>\n",
       "    </tr>\n",
       "    <tr>\n",
       "      <th>26</th>\n",
       "      <td>3.333333</td>\n",
       "      <td>90.316976</td>\n",
       "    </tr>\n",
       "    <tr>\n",
       "      <th>27</th>\n",
       "      <td>3.846154</td>\n",
       "      <td>134.487090</td>\n",
       "    </tr>\n",
       "    <tr>\n",
       "      <th>28</th>\n",
       "      <td>4.358974</td>\n",
       "      <td>194.060926</td>\n",
       "    </tr>\n",
       "    <tr>\n",
       "      <th>29</th>\n",
       "      <td>4.871795</td>\n",
       "      <td>268.850285</td>\n",
       "    </tr>\n",
       "    <tr>\n",
       "      <th>30</th>\n",
       "      <td>5.384615</td>\n",
       "      <td>357.286137</td>\n",
       "    </tr>\n",
       "    <tr>\n",
       "      <th>31</th>\n",
       "      <td>5.897436</td>\n",
       "      <td>467.019593</td>\n",
       "    </tr>\n",
       "    <tr>\n",
       "      <th>32</th>\n",
       "      <td>6.410256</td>\n",
       "      <td>595.838508</td>\n",
       "    </tr>\n",
       "    <tr>\n",
       "      <th>33</th>\n",
       "      <td>6.923077</td>\n",
       "      <td>744.009102</td>\n",
       "    </tr>\n",
       "    <tr>\n",
       "      <th>34</th>\n",
       "      <td>7.435897</td>\n",
       "      <td>912.633868</td>\n",
       "    </tr>\n",
       "    <tr>\n",
       "      <th>35</th>\n",
       "      <td>7.948718</td>\n",
       "      <td>1113.041472</td>\n",
       "    </tr>\n",
       "    <tr>\n",
       "      <th>36</th>\n",
       "      <td>8.461538</td>\n",
       "      <td>1335.020061</td>\n",
       "    </tr>\n",
       "    <tr>\n",
       "      <th>37</th>\n",
       "      <td>8.974359</td>\n",
       "      <td>1584.605544</td>\n",
       "    </tr>\n",
       "    <tr>\n",
       "      <th>38</th>\n",
       "      <td>9.487179</td>\n",
       "      <td>1867.987470</td>\n",
       "    </tr>\n",
       "    <tr>\n",
       "      <th>39</th>\n",
       "      <td>10.000000</td>\n",
       "      <td>2174.563874</td>\n",
       "    </tr>\n",
       "  </tbody>\n",
       "</table>\n",
       "</div>"
      ],
      "text/plain": [
       "            x            y\n",
       "0  -10.000000 -1767.898729\n",
       "1   -9.487179 -1496.271751\n",
       "2   -8.974359 -1254.183644\n",
       "3   -8.461538 -1040.888009\n",
       "4   -7.948718  -849.077111\n",
       "5   -7.435897  -686.262692\n",
       "6   -6.923077  -545.224138\n",
       "7   -6.410256  -419.853904\n",
       "8   -5.897436  -321.444054\n",
       "9   -5.384615  -233.948414\n",
       "10  -4.871795  -164.786088\n",
       "11  -4.358974  -111.769920\n",
       "12  -3.846154   -68.532441\n",
       "13  -3.333333   -40.147304\n",
       "14  -2.820513   -13.688711\n",
       "15  -2.307692    -1.099846\n",
       "16  -1.794872     5.403204\n",
       "17  -1.282051     5.166884\n",
       "18  -0.769231     7.308543\n",
       "19  -0.256410     6.394550\n",
       "20   0.256410     2.942306\n",
       "21   0.769231     3.416502\n",
       "22   1.282051     7.987157\n",
       "23   1.794872    14.781894\n",
       "24   2.307692    34.732564\n",
       "25   2.820513    55.418389\n",
       "26   3.333333    90.316976\n",
       "27   3.846154   134.487090\n",
       "28   4.358974   194.060926\n",
       "29   4.871795   268.850285\n",
       "30   5.384615   357.286137\n",
       "31   5.897436   467.019593\n",
       "32   6.410256   595.838508\n",
       "33   6.923077   744.009102\n",
       "34   7.435897   912.633868\n",
       "35   7.948718  1113.041472\n",
       "36   8.461538  1335.020061\n",
       "37   8.974359  1584.605544\n",
       "38   9.487179  1867.987470\n",
       "39  10.000000  2174.563874"
      ]
     },
     "execution_count": 13,
     "metadata": {},
     "output_type": "execute_result"
    }
   ],
   "source": [
    "test_data=pd.read_csv(r'C:\\\\Users\\\\MANOJ PATEL\\\\Downloads\\\\Test_dataset.csv')\n",
    "test_data"
   ]
  },
  {
   "cell_type": "code",
   "execution_count": 14,
   "id": "a6883a37",
   "metadata": {},
   "outputs": [
    {
     "name": "stdout",
     "output_type": "stream",
     "text": [
      "         Actual   Predicted\n",
      "0  -1767.898729 -422.272800\n",
      "1  -1496.271751 -359.805087\n",
      "2  -1254.183644 -303.838714\n",
      "3  -1040.888009 -254.015587\n",
      "4   -849.077111 -209.977612\n",
      "5   -686.262692 -171.366697\n",
      "6   -545.224138 -137.824747\n",
      "7   -419.853904 -108.993669\n",
      "8   -321.444054  -84.515371\n",
      "9   -233.948414  -64.031757\n",
      "10  -164.786088  -47.184736\n",
      "11  -111.769920  -33.616214\n",
      "12   -68.532441  -22.968096\n",
      "13   -40.147304  -14.882291\n",
      "14   -13.688711   -9.000704\n",
      "15    -1.099846   -4.965242\n",
      "16     5.403204   -2.417812\n",
      "17     5.166884   -1.000320\n",
      "18     7.308543   -0.354672\n",
      "19     6.394550   -0.122776\n",
      "20     2.942306    0.053462\n",
      "21     3.416502    0.532135\n",
      "22     7.987157    1.671337\n",
      "23    14.781894    3.829162\n",
      "24    34.732564    7.363702\n",
      "25    55.418389   12.633051\n",
      "26    90.316976   19.995303\n",
      "27   134.487090   29.808551\n",
      "28   194.060926   42.430888\n",
      "29   268.850285   58.220408\n",
      "30   357.286137   77.535203\n",
      "31   467.019593  100.733369\n",
      "32   595.838508  128.172997\n",
      "33   744.009102  160.212182\n",
      "34   912.633868  197.209016\n",
      "35  1113.041472  239.521594\n",
      "36  1335.020061  287.508008\n",
      "37  1584.605544  341.526352\n",
      "38  1867.987470  401.934719\n",
      "39  2174.563874  469.091204\n"
     ]
    }
   ],
   "source": [
    "results=pd.DataFrame({ 'Actual':test_data['y'],'Predicted':model1(test_data['x'])})\n",
    "print(results)"
   ]
  },
  {
   "cell_type": "code",
   "execution_count": 70,
   "id": "ed84672b",
   "metadata": {},
   "outputs": [
    {
     "data": {
      "text/plain": [
       "<matplotlib.collections.PathCollection at 0x22353bff5b0>"
      ]
     },
     "execution_count": 70,
     "metadata": {},
     "output_type": "execute_result"
    },
    {
     "data": {
      "image/png": "[encoded data removed]",
      "text/plain": [
       "<Figure size 640x480 with 1 Axes>"
      ]
     },
     "metadata": {},
     "output_type": "display_data"
    }
   ],
   "source": [
    "#plt.scatter(x_1,y)\n",
    "plt.scatter(x_1+x_1**2+x_1**3,y)\n",
    "#plt.scatter(x_1**3,y)"
   ]
  },
  {
   "cell_type": "code",
   "execution_count": null,
   "id": "aebf6cda",
   "metadata": {},
   "outputs": [],
   "source": []
  },
  {
   "cell_type": "code",
   "execution_count": null,
   "id": "3977580e",
   "metadata": {},
   "outputs": [],
   "source": []
  },
  {
   "cell_type": "code",
   "execution_count": null,
   "id": "3922448b",
   "metadata": {},
   "outputs": [],
   "source": []
  },
  {
   "cell_type": "code",
   "execution_count": null,
   "id": "ee784276",
   "metadata": {},
   "outputs": [],
   "source": []
  },
  {
   "cell_type": "code",
   "execution_count": 19,
   "id": "702d6df4",
   "metadata": {},
   "outputs": [],
   "source": [
    "X_features=[[1 for i in range(len(y))],x_1,x_2,x_3]\n",
    "def JR(w,ReguPara):    # Objective Function\n",
    "    s=0\n",
    "    w_1=w[1:]\n",
    "    regularization=ReguPara*sum(w_1*w_1)\n",
    "    for i in range(len(y)):\n",
    "        p=0\n",
    "        for j in range(len(w)):\n",
    "            p+=w[j]*X_features[j][i]\n",
    "        s+=(p-y[i])**2\n",
    "    return (s+regularization)/(2*len(y))\n",
    "def gradJR(w,ReguPara):\n",
    "    gr=[]\n",
    "    for j in range(len(w)):\n",
    "        s=0       \n",
    "        for i in range(len(y)):\n",
    "            p=0\n",
    "            for k in range(len(w)):\n",
    "                p+=w[k]*X_features[k][i]\n",
    "            s+=((p-y[i])*X_features[j][i])\n",
    "        gr.append((s+ReguPara*w[j])/len(y))\n",
    "    return np.array(gr)"
   ]
  },
  {
   "cell_type": "code",
   "execution_count": 20,
   "id": "fccfcb63",
   "metadata": {},
   "outputs": [],
   "source": [
    "#This is the function used in the last LAB Here alpha is fixed\n",
    "def SteepestDescent(f,gradf,initialGuess=np.array([0,1/2,1/3,1/2]),iterations=1000,tolerance=10**-3,StepL=0.01,ReguPara=0.1):\n",
    "    k=0\n",
    "    w_0=initialGuess\n",
    "    while k<iterations and np.linalg.norm(gradf(w_0,ReguPara))>tolerance:\n",
    "        p=-gradf(w_0,ReguPara)\n",
    "        w_0=w_0+StepL*p\n",
    "        k=k+1\n",
    "    print('minimum value will be:',f(w_0,ReguPara),'at',w_0,'Number of iterations:',k)\n",
    "    return w_0,f(w_0,ReguPara)"
   ]
  },
  {
   "cell_type": "code",
   "execution_count": 23,
   "id": "7831c6a2",
   "metadata": {},
   "outputs": [
    {
     "name": "stdout",
     "output_type": "stream",
     "text": [
      "minimum value will be: inf at [1.21774798e+285 8.76600571e+301 2.76711809e+287 6.32370864e+303] Number of iterations: 96\n"
     ]
    },
    {
     "name": "stderr",
     "output_type": "stream",
     "text": [
      "C:\\Users\\MANOJ PATEL\\AppData\\Local\\Temp\\ipykernel_15436\\2012465735.py:20: RuntimeWarning: overflow encountered in double_scalars\n",
      "  s+=((p-y[i])*X_features[j][i])\n",
      "C:\\Users\\MANOJ PATEL\\AppData\\Local\\Temp\\ipykernel_15436\\2012465735.py:20: RuntimeWarning: invalid value encountered in double_scalars\n",
      "  s+=((p-y[i])*X_features[j][i])\n",
      "C:\\Users\\MANOJ PATEL\\AppData\\Local\\Temp\\ipykernel_15436\\2012465735.py:5: RuntimeWarning: overflow encountered in multiply\n",
      "  regularization=ReguPara*sum(w_1*w_1)\n",
      "C:\\Users\\MANOJ PATEL\\AppData\\Local\\Temp\\ipykernel_15436\\2012465735.py:10: RuntimeWarning: overflow encountered in double_scalars\n",
      "  s+=(p-y[i])**2\n"
     ]
    }
   ],
   "source": [
    "\n",
    "w,value=SteepestDescent(JR,gradJR)"
   ]
  },
  {
   "cell_type": "code",
   "execution_count": 13,
   "id": "4391484a",
   "metadata": {},
   "outputs": [],
   "source": [
    "x_1=train_data['x']\n",
    "y=train_data['y']\n",
    "x_2=x_1*x_1\n",
    "x_3=x_2*x_1"
   ]
  },
  {
   "cell_type": "code",
   "execution_count": 16,
   "id": "7401750e",
   "metadata": {},
   "outputs": [
    {
     "name": "stdout",
     "output_type": "stream",
     "text": [
      "SME will be  286403.27648517326\n"
     ]
    }
   ],
   "source": [
    "print(\"SME will be \",JR(w,0.1))"
   ]
  },
  {
   "cell_type": "code",
   "execution_count": 17,
   "id": "82a89b48",
   "metadata": {},
   "outputs": [],
   "source": [
    "def model2(x):\n",
    "    return (w[0]+w[1]*x+w[2]*x**2+w[3]*x**3)"
   ]
  },
  {
   "cell_type": "code",
   "execution_count": 18,
   "id": "3214776a",
   "metadata": {},
   "outputs": [
    {
     "name": "stdout",
     "output_type": "stream",
     "text": [
      "         Actual   Predicted\n",
      "0  -1767.898729 -455.632679\n",
      "1  -1496.271751 -388.472891\n",
      "2  -1254.183644 -328.273362\n",
      "3  -1040.888009 -274.652562\n",
      "4   -849.077111 -227.228961\n",
      "5   -686.262692 -185.621031\n",
      "6   -545.224138 -149.447241\n",
      "7   -419.853904 -118.326062\n",
      "8   -321.444054  -91.875963\n",
      "9   -233.948414  -69.715416\n",
      "10  -164.786088  -51.462890\n",
      "11  -111.769920  -36.736856\n",
      "12   -68.532441  -25.155783\n",
      "13   -40.147304  -16.338143\n",
      "14   -13.688711   -9.902406\n",
      "15    -1.099846   -5.467041\n",
      "16     5.403204   -2.650520\n",
      "17     5.166884   -1.071312\n",
      "18     7.308543   -0.347888\n",
      "19     6.394550   -0.098718\n",
      "20     2.942306    0.057728\n",
      "21     3.416502    0.502979\n",
      "22     7.987157    1.618566\n",
      "23    14.781894    3.786017\n",
      "24    34.732564    7.386863\n",
      "25    55.418389   12.802633\n",
      "26    90.316976   20.414856\n",
      "27   134.487090   30.605064\n",
      "28   194.060926   43.754785\n",
      "29   268.850285   60.245549\n",
      "30   357.286137   80.458886\n",
      "31   467.019593  104.776325\n",
      "32   595.838508  133.579396\n",
      "33   744.009102  167.249630\n",
      "34   912.633868  206.168555\n",
      "35  1113.041472  250.717701\n",
      "36  1335.020061  301.278598\n",
      "37  1584.605544  358.232776\n",
      "38  1867.987470  421.961765\n",
      "39  2174.563874  492.847094\n"
     ]
    }
   ],
   "source": [
    "results=pd.DataFrame({ 'Actual':test_data['y'],'Predicted':model2(test_data['x'])})\n",
    "print(results)"
   ]
  },
  {
   "cell_type": "code",
   "execution_count": null,
   "id": "5c10d1f8",
   "metadata": {},
   "outputs": [],
   "source": []
  }
 ],
 "metadata": {
  "kernelspec": {
   "display_name": "Python 3 (ipykernel)",
   "language": "python",
   "name": "python3"
  },
  "language_info": {
   "codemirror_mode": {
    "name": "ipython",
    "version": 3
   },
   "file_extension": ".py",
   "mimetype": "text/x-python",
   "name": "python",
   "nbconvert_exporter": "python",
   "pygments_lexer": "ipython3",
   "version": "3.9.13"
  }
 },
 "nbformat": 4,
 "nbformat_minor": 5
}
