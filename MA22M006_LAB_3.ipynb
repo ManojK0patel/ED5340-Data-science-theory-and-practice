{
 "cells": [
  {
   "cell_type": "markdown",
   "id": "ccbd10b8",
   "metadata": {},
   "source": [
    "### LAB_3\n",
    "###### Zip Function,set and tuple"
   ]
  },
  {
   "cell_type": "markdown",
   "id": "d26cf6d3",
   "metadata": {},
   "source": [
    "Ans-(1):- Find out the application methods for the list but not applicable for thee tuples?\n",
    "               (i) concatenate\n",
    "              (ii) sorting\n",
    "             (iii) append\n",
    "              (iV) "
   ]
  },
  {
   "cell_type": "code",
   "execution_count": 23,
   "id": "a79e2ca9",
   "metadata": {},
   "outputs": [
    {
     "ename": "AttributeError",
     "evalue": "'tuple' object has no attribute 'append'",
     "output_type": "error",
     "traceback": [
      "\u001b[1;31m---------------------------------------------------------------------------\u001b[0m",
      "\u001b[1;31mAttributeError\u001b[0m                            Traceback (most recent call last)",
      "\u001b[1;32m~\\AppData\\Local\\Temp\\ipykernel_1360\\506203603.py\u001b[0m in \u001b[0;36m<module>\u001b[1;34m\u001b[0m\n\u001b[0;32m      1\u001b[0m \u001b[0ma\u001b[0m\u001b[1;33m=\u001b[0m\u001b[1;33m(\u001b[0m\u001b[1;36m3\u001b[0m\u001b[1;33m,\u001b[0m\u001b[1;36m5\u001b[0m\u001b[1;33m,\u001b[0m\u001b[1;36m1\u001b[0m\u001b[1;33m,\u001b[0m\u001b[1;36m4\u001b[0m\u001b[1;33m)\u001b[0m\u001b[1;33m\u001b[0m\u001b[1;33m\u001b[0m\u001b[0m\n\u001b[0;32m      2\u001b[0m \u001b[1;31m#a.sort()\u001b[0m\u001b[1;33m\u001b[0m\u001b[1;33m\u001b[0m\u001b[0m\n\u001b[1;32m----> 3\u001b[1;33m \u001b[0ma\u001b[0m\u001b[1;33m.\u001b[0m\u001b[0mappend\u001b[0m\u001b[1;33m(\u001b[0m\u001b[1;36m2\u001b[0m\u001b[1;33m)\u001b[0m\u001b[1;33m\u001b[0m\u001b[1;33m\u001b[0m\u001b[0m\n\u001b[0m",
      "\u001b[1;31mAttributeError\u001b[0m: 'tuple' object has no attribute 'append'"
     ]
    }
   ],
   "source": [
    "a=(3,5,1,4)\n",
    "#a.sort()\n",
    "a.append(2)"
   ]
  },
  {
   "cell_type": "markdown",
   "id": "c2fb5f93",
   "metadata": {},
   "source": [
    "### Ans_2"
   ]
  },
  {
   "cell_type": "code",
   "execution_count": 12,
   "id": "6b23fb1f",
   "metadata": {},
   "outputs": [
    {
     "name": "stdout",
     "output_type": "stream",
     "text": [
      "('h', 104) ('e', 101) ('l', 108) ('l', 108) ('o', 111)\n"
     ]
    }
   ],
   "source": [
    "str1='hello'\n",
    "out_tup=((a,ord(a))for a in str1)\n",
    "print(*out_tup)"
   ]
  },
  {
   "cell_type": "markdown",
   "id": "10688dfc",
   "metadata": {},
   "source": [
    "### Ans_3"
   ]
  },
  {
   "cell_type": "code",
   "execution_count": 35,
   "id": "19a3f9ca",
   "metadata": {},
   "outputs": [
    {
     "data": {
      "text/plain": [
       "[('Ankit', 'MA22M001'), ('Ervin', 'MA22M003'), ('Umair', 'MA22M007')]"
      ]
     },
     "execution_count": 35,
     "metadata": {},
     "output_type": "execute_result"
    }
   ],
   "source": [
    "lst1=[(\"Manoj\",'MA22M006'),('Ankit','MA22M001'),('Ervin','MA22M003'),('Umair','MA22M007')]\n",
    "lst2=[student for student in lst1 if student[0][0] in ['a','e','i','o','u','A','E','I','O','U']] \n",
    "lst2\n",
    "    "
   ]
  },
  {
   "cell_type": "markdown",
   "id": "1d5f176f",
   "metadata": {},
   "source": [
    "### Ans_4\n",
    "\n",
    "## (i)a"
   ]
  },
  {
   "cell_type": "code",
   "execution_count": 1,
   "id": "76c31855",
   "metadata": {},
   "outputs": [
    {
     "data": {
      "text/plain": [
       "[[337, 40, 91, 1008],\n",
       " [345, 899, 656, 1020],\n",
       " [584, 1192, 570, 166],\n",
       " [289, 132, 858, 920]]"
      ]
     },
     "execution_count": 1,
     "metadata": {},
     "output_type": "execute_result"
    }
   ],
   "source": [
    "# Sum of two matrices a+b\n",
    "a=[[12,34,15,28],[342,532,567,786],[9,423,546,79],[235,56,768,897]]\n",
    "b=[[325,6,76,980],[3,367,89,234],[575,769,24,87],[54,76,90,23]]\n",
    "Sum_ab=[[a[i][j]+b[i][j] for j in range(4)] for i in range(4)]\n",
    "Sum_ab"
   ]
  },
  {
   "cell_type": "code",
   "execution_count": 40,
   "id": "321c5ccd",
   "metadata": {},
   "outputs": [
    {
     "data": {
      "text/plain": [
       "[[-313, 28, -61, -952],\n",
       " [339, 165, 478, 552],\n",
       " [-566, -346, 522, -8],\n",
       " [181, -20, 678, 874]]"
      ]
     },
     "execution_count": 40,
     "metadata": {},
     "output_type": "execute_result"
    }
   ],
   "source": [
    "# Substraction a-b\n",
    "Sub_ab=[[a[i][j]-b[i][j] for j in range(4)] for i in range(4)]\n",
    "Sub_ab"
   ]
  },
  {
   "cell_type": "code",
   "execution_count": 47,
   "id": "5f44da62",
   "metadata": {},
   "outputs": [
    {
     "data": {
      "text/plain": [
       "1987"
      ]
     },
     "execution_count": 47,
     "metadata": {},
     "output_type": "execute_result"
    }
   ],
   "source": [
    "#Tance of an matrix \n",
    "diag_a=[a[i][i] for i in range(4)]\n",
    "trace_a=sum(diag_a)\n",
    "trace_a"
   ]
  },
  {
   "cell_type": "code",
   "execution_count": 49,
   "id": "339632cb",
   "metadata": {},
   "outputs": [
    {
     "data": {
      "text/plain": [
       "[[12, 342, 9, 235],\n",
       " [34, 532, 423, 56],\n",
       " [15, 567, 546, 768],\n",
       " [28, 786, 79, 897]]"
      ]
     },
     "execution_count": 49,
     "metadata": {},
     "output_type": "execute_result"
    }
   ],
   "source": [
    "#Transpose of a matrix\n",
    "a_transpose=[[a[i][j] for i in range(4)] for j in range(4)]\n",
    "a_transpose"
   ]
  },
  {
   "cell_type": "code",
   "execution_count": 51,
   "id": "00bdae8b",
   "metadata": {},
   "outputs": [
    {
     "data": {
      "text/plain": [
       "[[48, 136, 60, 112],\n",
       " [1368, 2128, 2268, 3144],\n",
       " [36, 1692, 2184, 316],\n",
       " [940, 224, 3072, 3588]]"
      ]
     },
     "execution_count": 51,
     "metadata": {},
     "output_type": "execute_result"
    }
   ],
   "source": [
    "# Scalar Multiplication\n",
    "alpha_a=[[4*a[i][j] for j in range(4)] for i in range(4)]\n",
    "alpha_a"
   ]
  },
  {
   "cell_type": "markdown",
   "id": "0f7dc064",
   "metadata": {},
   "source": [
    "## (i) b"
   ]
  },
  {
   "cell_type": "code",
   "execution_count": 54,
   "id": "641797e1",
   "metadata": {},
   "outputs": [
    {
     "data": {
      "text/plain": [
       "[[89], [2227], [1057], [1956]]"
      ]
     },
     "execution_count": 54,
     "metadata": {},
     "output_type": "execute_result"
    }
   ],
   "source": [
    "# Row wise addition\n",
    "Row_add_a=[[sum(row)] for row in a]\n",
    "Row_add_a"
   ]
  },
  {
   "cell_type": "code",
   "execution_count": 57,
   "id": "40160a30",
   "metadata": {},
   "outputs": [
    {
     "data": {
      "text/plain": [
       "[598, 1045, 1896, 1790]"
      ]
     },
     "execution_count": 57,
     "metadata": {},
     "output_type": "execute_result"
    }
   ],
   "source": [
    "# Column wise addition\n",
    "Column_add_a=[sum([a[i][j] for i in range(4)]) for j in range(4)]\n",
    "Column_add_a"
   ]
  },
  {
   "cell_type": "markdown",
   "id": "04dc0396",
   "metadata": {},
   "source": [
    "### (ii) a"
   ]
  },
  {
   "cell_type": "code",
   "execution_count": 64,
   "id": "7adcd661",
   "metadata": {},
   "outputs": [
    {
     "data": {
      "text/plain": [
       "[[337, 40, 91, 1008],\n",
       " [345, 899, 656, 1020],\n",
       " [584, 1192, 570, 166],\n",
       " [289, 132, 858, 920]]"
      ]
     },
     "execution_count": 64,
     "metadata": {},
     "output_type": "execute_result"
    }
   ],
   "source": [
    "# Sum of two matrices using ZIP\n",
    "a_b=zip(a,b)\n",
    "a_sum_b=[[r[0][i]+r[1][i] for i in range(4)] for r in a_b]\n",
    "a_sum_b"
   ]
  },
  {
   "cell_type": "code",
   "execution_count": 67,
   "id": "d300c49e",
   "metadata": {},
   "outputs": [
    {
     "data": {
      "text/plain": [
       "[[-313, 28, -61, -952],\n",
       " [339, 165, 478, 552],\n",
       " [-566, -346, 522, -8],\n",
       " [181, -20, 678, 874]]"
      ]
     },
     "execution_count": 67,
     "metadata": {},
     "output_type": "execute_result"
    }
   ],
   "source": [
    "# Subtraction of two matrices\n",
    "a_b=zip(a,b)\n",
    "a_sub_b=[[r[0][i]-r[1][i] for i in range(4)] for r in a_b]\n",
    "a_sub_b"
   ]
  },
  {
   "cell_type": "code",
   "execution_count": 7,
   "id": "fef57664",
   "metadata": {},
   "outputs": [
    {
     "data": {
      "text/plain": [
       "89"
      ]
     },
     "execution_count": 7,
     "metadata": {},
     "output_type": "execute_result"
    }
   ],
   "source": [
    "# Trace of an matrix\n",
    "zip_a=zip(*a)\n",
    "i=0\n",
    "trace_a=sum([a[i] for a in zip_a ])\n",
    "trace_a"
   ]
  },
  {
   "cell_type": "code",
   "execution_count": 3,
   "id": "cb1f7d1d",
   "metadata": {},
   "outputs": [
    {
     "data": {
      "text/plain": [
       "[[12, 342, 9, 235],\n",
       " [34, 532, 423, 56],\n",
       " [15, 567, 546, 768],\n",
       " [28, 786, 79, 897]]"
      ]
     },
     "execution_count": 3,
     "metadata": {},
     "output_type": "execute_result"
    }
   ],
   "source": [
    "# Transepose of a matrix\n",
    "zipped_a=zip(*a)\n",
    "trans_a=[list(a) for a in zipped_a]\n",
    "trans_a"
   ]
  },
  {
   "cell_type": "markdown",
   "id": "8ab0ff60",
   "metadata": {},
   "source": [
    "### Ans_5"
   ]
  },
  {
   "cell_type": "code",
   "execution_count": 92,
   "id": "a48b2b48",
   "metadata": {},
   "outputs": [
    {
     "data": {
      "text/plain": [
       "{1, 4, 9, 21, 53, 234, 235, 453, 656, 798, 2134, 2346, 3251, 9870}"
      ]
     },
     "execution_count": 92,
     "metadata": {},
     "output_type": "execute_result"
    }
   ],
   "source": [
    "lst=[1,2134,4,656,798,9870,9,2346,234,453,3251,21,235,53,4]\n",
    "S=set(lst)\n",
    "S"
   ]
  },
  {
   "cell_type": "markdown",
   "id": "9792dfd6",
   "metadata": {},
   "source": [
    "# a"
   ]
  },
  {
   "cell_type": "code",
   "execution_count": 93,
   "id": "8bb0d08a",
   "metadata": {},
   "outputs": [
    {
     "data": {
      "text/plain": [
       "{1, 3, 4, 9, 21, 53, 234, 235, 453, 656, 798, 2134, 2346, 3251, 9870}"
      ]
     },
     "execution_count": 93,
     "metadata": {},
     "output_type": "execute_result"
    }
   ],
   "source": [
    "S.add(3)\n",
    "S"
   ]
  },
  {
   "cell_type": "markdown",
   "id": "60245f8e",
   "metadata": {},
   "source": [
    "# b"
   ]
  },
  {
   "cell_type": "code",
   "execution_count": 94,
   "id": "660ae051",
   "metadata": {},
   "outputs": [
    {
     "data": {
      "text/plain": [
       "{3, 4, 9, 21, 53, 234, 235, 453, 656, 798, 2134, 2346, 3251, 9870}"
      ]
     },
     "execution_count": 94,
     "metadata": {},
     "output_type": "execute_result"
    }
   ],
   "source": [
    "S.remove(1)\n",
    "S"
   ]
  },
  {
   "cell_type": "markdown",
   "id": "9779087c",
   "metadata": {},
   "source": [
    "# c"
   ]
  },
  {
   "cell_type": "code",
   "execution_count": 96,
   "id": "ba26353f",
   "metadata": {},
   "outputs": [
    {
     "data": {
      "text/plain": [
       "{3, 4, 9, 21, 53, 234, 235, 453, 656, 798, 2134, 2346, 3251, 9870}"
      ]
     },
     "execution_count": 96,
     "metadata": {},
     "output_type": "execute_result"
    }
   ],
   "source": [
    "S.discard(13)\n",
    "S"
   ]
  },
  {
   "cell_type": "markdown",
   "id": "e300f381",
   "metadata": {},
   "source": [
    "# d"
   ]
  },
  {
   "cell_type": "code",
   "execution_count": 97,
   "id": "16639578",
   "metadata": {},
   "outputs": [
    {
     "data": {
      "text/plain": [
       "set()"
      ]
     },
     "execution_count": 97,
     "metadata": {},
     "output_type": "execute_result"
    }
   ],
   "source": [
    "S.clear()\n",
    "S\n"
   ]
  },
  {
   "cell_type": "markdown",
   "id": "74e93711",
   "metadata": {},
   "source": [
    "#  Ans_6"
   ]
  },
  {
   "cell_type": "code",
   "execution_count": 100,
   "id": "0dc6e9d2",
   "metadata": {},
   "outputs": [
    {
     "data": {
      "text/plain": [
       "frozenset({'A',\n",
       "           'M',\n",
       "           '_',\n",
       "           'a',\n",
       "           'e',\n",
       "           'j',\n",
       "           'k',\n",
       "           'l',\n",
       "           'm',\n",
       "           'n',\n",
       "           'o',\n",
       "           'p',\n",
       "           'r',\n",
       "           't',\n",
       "           'u'})"
      ]
     },
     "execution_count": 100,
     "metadata": {},
     "output_type": "execute_result"
    }
   ],
   "source": [
    "S1=frozenset('MAnoj_kumar_patel')\n",
    "#Build an immutable unordered collection of unique elements.\n",
    "S1"
   ]
  },
  {
   "cell_type": "markdown",
   "id": "ab9406ec",
   "metadata": {},
   "source": [
    "# Ans_7 "
   ]
  },
  {
   "cell_type": "code",
   "execution_count": 102,
   "id": "3ceab157",
   "metadata": {},
   "outputs": [
    {
     "data": {
      "text/plain": [
       "{0, 2, 4, 6, 8}"
      ]
     },
     "execution_count": 102,
     "metadata": {},
     "output_type": "execute_result"
    }
   ],
   "source": [
    "even_Num={i for i in range(10) if i%2==0}\n",
    "even_Num"
   ]
  }
 ],
 "metadata": {
  "kernelspec": {
   "display_name": "Python 3 (ipykernel)",
   "language": "python",
   "name": "python3"
  },
  "language_info": {
   "codemirror_mode": {
    "name": "ipython",
    "version": 3
   },
   "file_extension": ".py",
   "mimetype": "text/x-python",
   "name": "python",
   "nbconvert_exporter": "python",
   "pygments_lexer": "ipython3",
   "version": "3.9.13"
  }
 },
 "nbformat": 4,
 "nbformat_minor": 5
}
