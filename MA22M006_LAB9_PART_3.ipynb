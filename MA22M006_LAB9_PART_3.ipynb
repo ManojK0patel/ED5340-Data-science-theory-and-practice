{
 "cells": [
  {
   "cell_type": "markdown",
   "id": "f74b5403",
   "metadata": {},
   "source": [
    "# ANS_4\n",
    "4. Explore the various datasets discussed in class such as AlexNet, ImageNet, ShapeNet, ModelNet, CADNet and CADSketchNet. Write brief description about each of them."
   ]
  },
  {
   "cell_type": "markdown",
   "id": "1e471c5e",
   "metadata": {},
   "source": [
    "AlexNet: AlexNet is a deep convolutional neural network designed by Alex Krizhevsky, Ilya Sutskever, and Geoffrey Hinton. It was the winner of the ImageNet Large Scale Visual Recognition Challenge (ILSVRC) in 2012. AlexNet has five convolutional layers and three fully connected layers. It has around 60 million parameters and was trained on a large-scale dataset called ImageNet.\n",
    "\n",
    "ImageNet: ImageNet is a large-scale image dataset with over 14 million images and 21,000 categories. It was created to train and evaluate image recognition algorithms, and it has been used in numerous research studies in computer vision. ImageNet was also the dataset used for the ImageNet Large Scale Visual Recognition Challenge (ILSVRC), which started in 2010 and ended in 2017.\n",
    "\n",
    "ShapeNet: ShapeNet is a large-scale dataset of 3D shapes. It contains over 50,000 models and 55 categories of objects, including chairs, cars, and airplanes. Each model is represented as a mesh of vertices and faces, along with associated metadata such as category, shape style, and pose.\n",
    "\n",
    "ModelNet: ModelNet is another large-scale dataset of 3D shapes. It contains over 127,000 models from 662 categories, including furniture, vehicles, and household objects. Each model is represented as a mesh of vertices and faces, along with associated metadata such as category and orientation.\n",
    "\n",
    "CADNet: CADNet is a dataset of images and 3D models of objects commonly found in manufacturing settings, such as bolts, screws, and gears. It contains over 6,000 images and 300 3D models, and it was created to facilitate the development of computer vision algorithms for manufacturing.\n",
    "\n",
    "CADSketchNet: CADSketchNet is a dataset of hand-drawn sketches of objects commonly found in manufacturing settings. It contains over 2,500 sketches of objects such as gears, motors, and pumps. The dataset was created to facilitate the development of sketch-based design tools and computer vision algorithms for manufacturing.\n"
   ]
  },
  {
   "cell_type": "code",
   "execution_count": null,
   "id": "4f8805e5",
   "metadata": {},
   "outputs": [],
   "source": []
  }
 ],
 "metadata": {
  "kernelspec": {
   "display_name": "Python 3 (ipykernel)",
   "language": "python",
   "name": "python3"
  },
  "language_info": {
   "codemirror_mode": {
    "name": "ipython",
    "version": 3
   },
   "file_extension": ".py",
   "mimetype": "text/x-python",
   "name": "python",
   "nbconvert_exporter": "python",
   "pygments_lexer": "ipython3",
   "version": "3.9.13"
  }
 },
 "nbformat": 4,
 "nbformat_minor": 5
}
